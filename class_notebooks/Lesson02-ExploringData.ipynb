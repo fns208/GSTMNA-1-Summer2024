{
 "cells": [
  {
   "cell_type": "markdown",
   "metadata": {
    "slideshow": {
     "slide_type": "-"
    }
   },
   "source": [
    "# Lesson 2:  Exploring Data\n",
    "\n",
    "**Goals & Key Ideas:**\n",
    "1. Pandas Data Frames\n",
    "    + Getting datasets: (1) CSV files in your JupyterHub; (2) CSV files from the internet\n",
    "    + Attributes and Methods of data frames\n",
    "    + Accessing columns of a data frame\n",
    "    + Accessing entries of a data frame\n",
    "2. Working with data frames\n",
    "    + Sorting rows based on values in a column\n",
    "    + Filtering rows based on values in a column\n",
    "    + Adding new columns\n",
    "    + Grouping and aggregating"
   ]
  },
  {
   "cell_type": "markdown",
   "metadata": {
    "slideshow": {
     "slide_type": "-"
    }
   },
   "source": [
    "## 1. Pandas Data Frames"
   ]
  },
  {
   "cell_type": "markdown",
   "metadata": {},
   "source": [
    "You can think of **data frames** simply as the term that pandas uses to refer to **data tables**.\n",
    "\n",
    "(similar to how excel spreadsheets organize data, in rows and columns)\n",
    "\n",
    "More precisely, though, data frames are a particular type of **objects** in python/pandas. We have seen other objects as well earlier in this homework: lists are objects, numpy arrays are objects, integers are objects, etc."
   ]
  },
  {
   "cell_type": "markdown",
   "metadata": {},
   "source": [
    "### 1.1 Datasets: Observations and Variables"
   ]
  },
  {
   "cell_type": "markdown",
   "metadata": {},
   "source": [
    "Given a set of data\n",
    "- An **observation** refers to an **individual** or an **entity** from which data is collected\n",
    "- A **variable** is any **characteristic** about each individual that is recorded in the dataset"
   ]
  },
  {
   "cell_type": "markdown",
   "metadata": {},
   "source": [
    "For example:\n",
    "\n",
    "The following data set comes from UC Berkeley graduate school admissions data in 1973. \n",
    "            <img src=\"berkeley.png\" width=\"600\">"
   ]
  },
  {
   "cell_type": "markdown",
   "metadata": {},
   "source": [
    "In a well-organized data frame,\n",
    "- Each **row** of a data frame corresponds to one **observation**\n",
    "- Each **column** of a data frame corresponds to a **variable**"
   ]
  },
  {
   "cell_type": "markdown",
   "metadata": {},
   "source": [
    "#### Exercise"
   ]
  },
  {
   "cell_type": "markdown",
   "metadata": {},
   "source": [
    "<table>\n",
    "    <tr>\n",
    "        <td>The following data set comes from UC Berkeley graduate school admissions data in 1973. \n",
    "            What are the observations? \n",
    "            What are the variables?  \n",
    "            What types of variables are there?\n",
    "            <img src=\"berkeley.png\" width=\"600\"></td>\n",
    "        <td><header><h1>Quick Poll: </h1></header>\n",
    "            How many observations are there in this dataset?  How many variables?\n",
    "            <ol type=\"A\">\n",
    "<li> 6 variables, 5 observations</li>\n",
    "<li> 5 variables, 6 observations</li>\n",
    "<li> 5 variables, 5 observations</li>\n",
    "<li> 6 variables, 6 observations</li>\n",
    "<li> None of the above is correct</li>\n",
    "<li> There isn’t enough information provided </li>\n",
    "     </ol>       \n",
    "Submit a response on PollEv: <a href='https://pollev.com/fshum'>https://pollev.com/fshum</a>\n",
    "</td>\n",
    "    </tr>\n",
    "</table> "
   ]
  },
  {
   "cell_type": "markdown",
   "metadata": {},
   "source": [
    "### 1.2 Obtaining data frames"
   ]
  },
  {
   "cell_type": "markdown",
   "metadata": {},
   "source": [
    "There are two main ways we can get data frames in python.\n",
    "1. Importing a file from a directory in you computer or from the internet\n",
    "\n",
    "    `pd.read_csv(‘FILENAME’)`\n",
    "   \n",
    "    `pd.read_csv(‘LINK’)`\n",
    "\n",
    "2. Entering data manually into a data frame\n",
    "\n",
    "    Occasionally, we might want to type in our data manually into a data frame (for example, maybe you are collecting the data yourself.\n",
    "\n",
    "    `pd.DataFrame( { ‘COLNAME1’ : LIST1, ‘COLNAME2’: LIST2, … } )`\n",
    "\n"
   ]
  },
  {
   "cell_type": "markdown",
   "metadata": {},
   "source": [
    "### Data Frames: Importing a file from your computer or the internet"
   ]
  },
  {
   "cell_type": "markdown",
   "metadata": {},
   "source": [
    "A common format to store data is a “**comma separated values**” file (**.csv**)\n",
    "\n",
    "We use the function\n",
    "\n",
    "`pd.read_csv( 'FILENAME' )`\n",
    "\n",
    "when we want pandas to \"read\" a csv file and store it as a data frame:\n",
    "- input: the name of the csv file\n",
    "- output: a pandas data frame\n"
   ]
  },
  {
   "cell_type": "markdown",
   "metadata": {},
   "source": [
    "**Working with files in a different folder:**\n",
    "\n",
    "You might notice that we have a copy of **top50.csv** in the lesson02 folder and in the homework01 folder.\n",
    "\n",
    "From now on, datasets that we will work with will be stored in the following folder:\n",
    "\n",
    "`/shared/datasets/FILENAME`\n",
    "\n",
    "So, we will have just that one copy of the csv file that we can refer to from anywhere else in our JupyterHub."
   ]
  },
  {
   "cell_type": "markdown",
   "metadata": {},
   "source": [
    "There is a file called **berkeley73.csv** in the folder `/shared/datasets/`\n",
    "\n",
    "We want to access this file from the Lesson 2 jupyter notebook, which is in the folder `/class_materials/class_notebooks/lesson02/`\n",
    "\n",
    "**Working with files from the internet**\n",
    "\n",
    "A good resource for data is: \n",
    "UCI ML Repository(https://archive.ics.uci.edu/)"
   ]
  },
  {
   "cell_type": "code",
   "execution_count": null,
   "metadata": {},
   "outputs": [],
   "source": []
  },
  {
   "cell_type": "code",
   "execution_count": null,
   "metadata": {},
   "outputs": [],
   "source": []
  },
  {
   "cell_type": "code",
   "execution_count": null,
   "metadata": {},
   "outputs": [],
   "source": []
  },
  {
   "cell_type": "code",
   "execution_count": null,
   "metadata": {},
   "outputs": [],
   "source": []
  },
  {
   "cell_type": "markdown",
   "metadata": {},
   "source": [
    "### Data Frames: Manual Entry"
   ]
  },
  {
   "cell_type": "markdown",
   "metadata": {},
   "source": [
    "Occasionally, we might want to type in our data manually into a data frame (for example, maybe you are collecting the data yourself)\n",
    "\n",
    "`pd.DataFrame( { ‘COLNAME1’ : LIST1, ‘COLNAME2’: LIST2, ... } )`\n",
    "\n",
    "For example:\n",
    "\n",
    "berkeley = pd.DataFrame(‘Department’:[‘A’, ‘B’, C’, ‘D’, ‘E’, ‘F’],\n",
    "\t\t\t\t\t‘Men_Applicants’: [825, 560, 325, 417, 191, 373] \n",
    "\t\t\t\t\t......\n",
    "\t\t\t\t\t‘Women_ Admitted’:[89,17,202,131,94,24])"
   ]
  },
  {
   "cell_type": "code",
   "execution_count": null,
   "metadata": {},
   "outputs": [],
   "source": []
  },
  {
   "cell_type": "code",
   "execution_count": null,
   "metadata": {},
   "outputs": [],
   "source": []
  },
  {
   "cell_type": "markdown",
   "metadata": {},
   "source": [
    "### 1.3 Data Frames: Attributess"
   ]
  },
  {
   "cell_type": "markdown",
   "metadata": {},
   "source": [
    "Python objects, including data frames, have **attributes** associated with them. \n",
    "\n",
    "**Attributes** of a data frame are essentially **variables** containing properties or information associated to a data frame.\n",
    "\n",
    "Below are three of the most important attributes of data frames:\n",
    "- `.shape`: the numbers of rows and columns of the data frame (in this order)\n",
    "- `.columns`: the list of the column names of the data frame\n",
    "- `.dtypes`: the list of the data types of the columns of the data frame\n",
    "\n",
    "There are other data frames attributes which we will encounter later."
   ]
  },
  {
   "cell_type": "code",
   "execution_count": null,
   "metadata": {},
   "outputs": [],
   "source": []
  },
  {
   "cell_type": "code",
   "execution_count": null,
   "metadata": {},
   "outputs": [],
   "source": []
  },
  {
   "cell_type": "code",
   "execution_count": null,
   "metadata": {},
   "outputs": [],
   "source": []
  },
  {
   "cell_type": "code",
   "execution_count": null,
   "metadata": {},
   "outputs": [],
   "source": []
  },
  {
   "cell_type": "markdown",
   "metadata": {},
   "source": [
    "### Data Frames: Methods"
   ]
  },
  {
   "cell_type": "markdown",
   "metadata": {},
   "source": [
    "Python objects, including data frames, also have **methods** associated with them.  \n",
    "\n",
    "**Methods** of a data frame are essentially **functions** that are associated to a data frame.\n",
    "\n",
    "Below are three of the most important methods of data frames:\n",
    "- `.head()`: a function that returns the first few rows of the data frame\n",
    "- `.tail()`: a function that returns the last few rows of the data frame\n",
    "- `.sample()`: a function that returns a random selection/sample of rows of the data frame\n",
    "\n",
    "There are other data frames methods which we will encounter later.\n"
   ]
  },
  {
   "cell_type": "code",
   "execution_count": null,
   "metadata": {},
   "outputs": [],
   "source": []
  },
  {
   "cell_type": "code",
   "execution_count": null,
   "metadata": {},
   "outputs": [],
   "source": []
  },
  {
   "cell_type": "code",
   "execution_count": null,
   "metadata": {},
   "outputs": [],
   "source": []
  },
  {
   "cell_type": "code",
   "execution_count": null,
   "metadata": {},
   "outputs": [],
   "source": []
  },
  {
   "cell_type": "markdown",
   "metadata": {},
   "source": [
    "### 1.4 Data Frames: Accessing columns"
   ]
  },
  {
   "cell_type": "markdown",
   "metadata": {},
   "source": [
    "Given a data frame, we might need to extract values from a particular column.  There are several ways to do this; here are two of them\n",
    "\n",
    "`DATAFRAMENAME[‘COLUMNNAME’]`\n",
    "\n",
    "Gives you a list containing all entries in the column **COLUMNNAME** of the data frame **DATAFRAMENAME**\n",
    "\n",
    "`DATAFRAMENAME.iloc[ : , COLINDEX ]`\n",
    "\n",
    "Gives you a list containing all entries in column number **COLINDEX** of the data frame **DATAFRAMENAME**"
   ]
  },
  {
   "cell_type": "markdown",
   "metadata": {},
   "source": [
    "You can also extract two or more columns at a time\n",
    "\n",
    "`DATAFRAMENAME[[‘COLUMNNAME1’, ‘COLUMNNAME2’]]`\n",
    "\n",
    "Gives you a list containing all entries in the columns **COLUMNNAME1** and **COLUMNNAME2** of the data frame **DATAFRAMENAME**\n",
    "\n",
    "`DATAFRAMENAME.iloc[ : , [COLINDEX1, COLINDEX2] ]`\n",
    "\n",
    "Gives you a list containing all entries in columns index **COLINDEX1** and **COLINDEX2** of the data frame **DATAFRAMENAME**\n",
    "\n"
   ]
  },
  {
   "cell_type": "code",
   "execution_count": null,
   "metadata": {},
   "outputs": [],
   "source": []
  },
  {
   "cell_type": "code",
   "execution_count": null,
   "metadata": {},
   "outputs": [],
   "source": []
  },
  {
   "cell_type": "markdown",
   "metadata": {},
   "source": [
    "### Data Frames: Accessing rows"
   ]
  },
  {
   "cell_type": "markdown",
   "metadata": {},
   "source": [
    "Given a data frame, we might need to extract values from a particular row.  There are several ways to do this; here are two of them\n",
    "\n",
    "`DATAFRAMENAME[[ROWINDEX1:ROWINDEXn]]`\n",
    "\n",
    "Gives you a list containing all entries in the rows **ROWINDEX1** to **ROWINDEXn** of the data frame **DATAFRAMENAME**\n",
    "\n",
    "`DATAFRAMENAME.iloc[[‘ROWNAME1’, …, ‘ROWNAMEn’], :]`\n",
    "\n",
    "Gives you a list containing all entries in rows called **ROWNAME1** to **ROWNAMEn** of the data frame **DATAFRAMENAME**\n",
    "\n",
    "`DATAFRAMENAME.iloc[[INDEX1, ..,INDEXn], :]`\n",
    "\n",
    "Gives you a list containing all entries in rows at **INDEX1** to **INDEXn** of the data frame **DATAFRAMENAME**\n"
   ]
  },
  {
   "cell_type": "code",
   "execution_count": null,
   "metadata": {},
   "outputs": [],
   "source": []
  },
  {
   "cell_type": "code",
   "execution_count": null,
   "metadata": {},
   "outputs": [],
   "source": []
  },
  {
   "cell_type": "markdown",
   "metadata": {},
   "source": [
    "### 1.5 Data Frames: Accessing entries"
   ]
  },
  {
   "cell_type": "markdown",
   "metadata": {},
   "source": [
    "There are also two ways to access an entry in a data frame\n",
    "\n",
    "`DATAFRAMENAME[ ‘COLUMNNAME’ ][ROWINDEX]`\n",
    "\n",
    "To access an entry in row index **ROWINDEX** and column called **COLUMNNAME**\n",
    "\n",
    "`DATAFRAMENAME.iloc[ ROWINDEX, COLINDEX ]`\n",
    "\n",
    "To access an entry in row index **ROWINDEX** and column index **COLINDEX**\n",
    "\n",
    "\n"
   ]
  },
  {
   "cell_type": "code",
   "execution_count": null,
   "metadata": {},
   "outputs": [],
   "source": []
  },
  {
   "cell_type": "code",
   "execution_count": null,
   "metadata": {},
   "outputs": [],
   "source": []
  },
  {
   "cell_type": "code",
   "execution_count": null,
   "metadata": {},
   "outputs": [],
   "source": []
  },
  {
   "cell_type": "markdown",
   "metadata": {},
   "source": [
    "### Naming Columns & Rows"
   ]
  },
  {
   "cell_type": "markdown",
   "metadata": {},
   "source": [
    "Sometimes the data we have read in do not have column and row names. Or you may want to reassign names to existing labels.\n",
    "\n",
    "**Renaming columns:**\n",
    "\n",
    "`df.columns = [‘NEWNAME1’, …, ‘NEWNAMEn’]`\n",
    "\n",
    "`.rename()` takes in 2 dictionaries where key and value are the old label and the new label:\n",
    "\n",
    "`row_idx_rename = {OLDNAME_ROW1 : NEWNAME_ROW1, …, OLDNAME_ROWn : NEWNAME_ROWn}`\n",
    "\n",
    "`col_rename = {OLDNAME_COL1 : NEWNAME_COL1, …, OLDNAME_COLn : NEWNAME_COLn}`\n",
    "\n",
    "`df_rename = df.rename(index = row_idx_rename, columns = col_rename)`\n"
   ]
  },
  {
   "cell_type": "code",
   "execution_count": null,
   "metadata": {},
   "outputs": [],
   "source": []
  },
  {
   "cell_type": "code",
   "execution_count": null,
   "metadata": {},
   "outputs": [],
   "source": []
  },
  {
   "cell_type": "markdown",
   "metadata": {},
   "source": [
    "### 1.6 Finding sums and averages of a column"
   ]
  },
  {
   "cell_type": "markdown",
   "metadata": {},
   "source": [
    "Recall that the function \n",
    "\n",
    "`sum( LISTNAME )`\n",
    "\n",
    "takes the sum of the numbers in the list **LISTNAME**.\n",
    "\n",
    "Since a column in a data frame is a list-like object, we can use `sum()` for a column of a data frame.\n",
    "\n",
    "We can also apply other list functions to columns:\n",
    "- `len()`\n",
    "- `max()`\n",
    "- `min()`\n"
   ]
  },
  {
   "cell_type": "markdown",
   "metadata": {},
   "source": [
    "Recall that the numpy function \n",
    "\n",
    "`np.mean( LISTNAME )`\n",
    "\n",
    "takes the average of the numbers in the list **LISTNAME**.\n",
    "\n",
    "Since a column in a data frame is a list-like object, we can use `np.mean()` for a column of a data frame.\n",
    "\n"
   ]
  },
  {
   "cell_type": "markdown",
   "metadata": {},
   "source": [
    "**Example:**\n",
    "\n",
    "Recall the data frame **berkeley** from before. Suppose that we would like to compute the admission rates of men and women in each of the departments.\n",
    "\n",
    "To compute the admission rate of women in each department, we want to divide each number in the **Women_Admitted** column by the corresponding number in the **Women_Applicants** column."
   ]
  },
  {
   "cell_type": "code",
   "execution_count": null,
   "metadata": {},
   "outputs": [],
   "source": []
  },
  {
   "cell_type": "code",
   "execution_count": null,
   "metadata": {},
   "outputs": [],
   "source": []
  },
  {
   "cell_type": "code",
   "execution_count": null,
   "metadata": {},
   "outputs": [],
   "source": []
  },
  {
   "cell_type": "code",
   "execution_count": null,
   "metadata": {},
   "outputs": [],
   "source": []
  },
  {
   "cell_type": "code",
   "execution_count": null,
   "metadata": {},
   "outputs": [],
   "source": []
  },
  {
   "cell_type": "code",
   "execution_count": null,
   "metadata": {},
   "outputs": [],
   "source": []
  },
  {
   "cell_type": "markdown",
   "metadata": {
    "slideshow": {
     "slide_type": "-"
    }
   },
   "source": [
    "## 2. Working with data frames\n",
    "\n",
    "### 2.1. Sorting rows based on values in a column"
   ]
  },
  {
   "cell_type": "markdown",
   "metadata": {},
   "source": [
    "`DATAFRAMENAME.sort_values( ‘COLUMNNAME’ )`\n",
    "\n",
    "- Returns the data frame **DATAFRAMENAME** where the rows are sorted based on values in column **COLUMNNAME**, in ascending order (default)\n",
    "\n",
    "`DATAFRAMENAME.sort_values( COLUMNNAME, ascending = False )`\n",
    "\n",
    "- Returns the data frame **DATAFRAMENAME** where the rows are sorted based on values in column **COLUMNNAME**, in descending order\n",
    "\n",
    "`DATAFRAMENAME.sort_values([COL1, COL2], ascending = [True, False])`\n",
    "\n",
    "- Returns the data frame **DATAFRAMENAME** where the rows are sorted based on values in column **COL1** in ascending order, then based on **COL2** in descending order\n"
   ]
  },
  {
   "cell_type": "markdown",
   "metadata": {
    "scrolled": true
   },
   "source": [
    "**Example:**\n",
    "\n",
    "Recall the data frame **berkeley** from before. Sort the departments from most women applicants to fewest women applicants\n"
   ]
  },
  {
   "cell_type": "code",
   "execution_count": null,
   "metadata": {
    "scrolled": true
   },
   "outputs": [],
   "source": []
  },
  {
   "cell_type": "code",
   "execution_count": null,
   "metadata": {
    "scrolled": true
   },
   "outputs": [],
   "source": []
  },
  {
   "cell_type": "code",
   "execution_count": null,
   "metadata": {
    "scrolled": true,
    "slideshow": {
     "slide_type": "-"
    }
   },
   "outputs": [],
   "source": []
  },
  {
   "cell_type": "markdown",
   "metadata": {},
   "source": [
    "### 2.2. Filtering rows based on values in a column"
   ]
  },
  {
   "cell_type": "markdown",
   "metadata": {},
   "source": [
    "`DATAFRAMENAME.query( CRITERIA )`\n",
    "\n",
    "- Returns a data frame containing only rows of **DATAFRAMENAME** that meets the given criteria\n",
    "- **CRITERIA** could be of the form of an equality or inequality based on values in a particular column"
   ]
  },
  {
   "cell_type": "markdown",
   "metadata": {},
   "source": [
    "A second way to filter:\n",
    "\n",
    "`DATAFRAMENAME[ DATAFRAMENAME[‘COLUMNNAME’] == VALUE ]`\n",
    "\n",
    "(Or `DATAFRAMENAME[ DATAFRAMENAME[‘COLUMNNAME’] > VALUE ]`, etc.)\n",
    "- Returns a data frame containing only rows of **DATAFRAMENAME** that meets the given criteria\n"
   ]
  },
  {
   "cell_type": "markdown",
   "metadata": {},
   "source": [
    "**Example:**\n",
    "\n",
    "Recall the data frame **berkeley** from before. \n",
    "Keep only rows where the number of women admitted are greater than or equal to 50"
   ]
  },
  {
   "cell_type": "code",
   "execution_count": null,
   "metadata": {},
   "outputs": [],
   "source": []
  },
  {
   "cell_type": "code",
   "execution_count": null,
   "metadata": {},
   "outputs": [],
   "source": []
  },
  {
   "cell_type": "code",
   "execution_count": null,
   "metadata": {
    "scrolled": true
   },
   "outputs": [],
   "source": []
  },
  {
   "cell_type": "code",
   "execution_count": null,
   "metadata": {
    "scrolled": true
   },
   "outputs": [],
   "source": []
  },
  {
   "cell_type": "markdown",
   "metadata": {
    "scrolled": true
   },
   "source": [
    "### 2.3. Adding new columns"
   ]
  },
  {
   "cell_type": "markdown",
   "metadata": {
    "scrolled": true
   },
   "source": [
    "There are several different ways to add a new column to a data frame\n",
    "\n",
    "`DATAFRAMENAME[‘NEWCOLNAME’] = LIST`\n",
    "- Adds a new column called **NEWCOLNAME** to the data frame **DATAFRAMENAME** (as the last column)\n",
    "- The contents of the new column is **LIST**\n",
    "  \n",
    "`DATAFRAMENAME.insert( COLINDEX, NEWCOLNAME, LIST )`\n",
    "- Adds a new column called **NEWCOLNAME** to the data frame **DATAFRAMENAME** at index **COLINDEX**\n",
    "- The contents of the new column is **LIST**\n"
   ]
  },
  {
   "cell_type": "markdown",
   "metadata": {},
   "source": [
    "**Quick Poll:**\n",
    "\n",
    "Create a new column called Total_Admitted in the berkeley data frame, which consists of the total number of men and women admitted to each department.\n",
    "\n",
    "Which of the options below works?\n",
    "- A. `Total_Admitted = Men_Admitted + Women_Admitted`\n",
    "- B. `berkeley[‘Men_Admitted’] + berkeley[‘Women_Admitted’]`\n",
    "- C. `berkeley[‘Total_Admitted’] = berkeley[:,3] + berkeley[:,5]`\n",
    "- D. None of the above\n",
    "   \n",
    "Submit a response on PollEv: https://pollev.com/fshum"
   ]
  },
  {
   "cell_type": "code",
   "execution_count": null,
   "metadata": {},
   "outputs": [],
   "source": []
  },
  {
   "cell_type": "code",
   "execution_count": null,
   "metadata": {},
   "outputs": [],
   "source": []
  },
  {
   "cell_type": "markdown",
   "metadata": {},
   "source": [
    "#### Exercises:\n",
    "\n",
    "1. Create a new column called **Men_AdmissionRate**, which consists of the admission rate of men into each department\n",
    "2. Create a new column called **Total_Admitted**, which consists of the total number of men and women admitted to each department.\n",
    "3. Create a new column called **Total_Applicants**, which consists of the total number of men and women admitted to each department.\n",
    "4. Create a new column called **Overall_Admission_Rate**, which consists of the overall admission rate (men and women) admitted to each department.\n",
    "\n",
    "\n",
    "\n"
   ]
  },
  {
   "cell_type": "code",
   "execution_count": null,
   "metadata": {},
   "outputs": [],
   "source": []
  },
  {
   "cell_type": "code",
   "execution_count": null,
   "metadata": {},
   "outputs": [],
   "source": []
  },
  {
   "cell_type": "code",
   "execution_count": null,
   "metadata": {},
   "outputs": [],
   "source": []
  },
  {
   "cell_type": "code",
   "execution_count": null,
   "metadata": {},
   "outputs": [],
   "source": []
  },
  {
   "cell_type": "code",
   "execution_count": null,
   "metadata": {},
   "outputs": [],
   "source": []
  },
  {
   "cell_type": "markdown",
   "metadata": {},
   "source": [
    "#### Editing Entries\n",
    "\n",
    "Suppose we have made a mistake; instead of department ‘F’, it is supposed to be named ‘G’.\n",
    "\n",
    "If we do not have the index of where ‘F’ is, we can find it:\n",
    "\n",
    "`idx = df.index[df[‘Department’] == ‘F’].to_flat_index()`\n",
    "\n",
    "Now we can replace ‘F’ with ‘G’ after finding the index with the above code:\n",
    "\n",
    "`df[‘Department’][idx] = ‘G’`\n"
   ]
  },
  {
   "cell_type": "code",
   "execution_count": null,
   "metadata": {},
   "outputs": [],
   "source": []
  },
  {
   "cell_type": "markdown",
   "metadata": {},
   "source": [
    "#### Dropping Column & Row\n",
    "If we want to drop the column ‘Department’ from our DataFrame:\n",
    "\n",
    "`df.drop([‘Department’], axis=1)`\n",
    "\n",
    "If we want to drop the first two rows with index ‘0’ and ‘1’ from our DataFrame:\n",
    "\n",
    "`df.drop([0,1])`\n"
   ]
  },
  {
   "cell_type": "code",
   "execution_count": null,
   "metadata": {},
   "outputs": [],
   "source": []
  },
  {
   "cell_type": "code",
   "execution_count": null,
   "metadata": {},
   "outputs": [],
   "source": []
  },
  {
   "cell_type": "code",
   "execution_count": null,
   "metadata": {},
   "outputs": [],
   "source": []
  },
  {
   "cell_type": "markdown",
   "metadata": {},
   "source": [
    "### 2.4. Grouping and aggregating"
   ]
  },
  {
   "cell_type": "markdown",
   "metadata": {},
   "source": [
    "**Motivation:**\n",
    "\n",
    "Consider the **top50** data frame from Homework 1, which contains data from the top 50 songs on Spotify in 2019. \n",
    "Suppose we want to analyze the songs by Genre:\n",
    "- How many different songs are there for each genre, among the top 50?\n",
    "- What are the average loudness of songs in each genre?\n",
    "- How danceable are each genre, on average?\n",
    "- etc.\n",
    "\n"
   ]
  },
  {
   "cell_type": "markdown",
   "metadata": {},
   "source": [
    "We answer each question in two steps:\n",
    "1. First, **group the rows by genre**\n",
    "2. Within each genre, **compute the aggregate information**, such as\n",
    "    - Count the number of songs in this genre\n",
    "    - Compute the average loudness of the songs in this genre\n",
    "    - Compute the average danceability of the songs in this genre\n",
    "    - etc.\n",
    "\n"
   ]
  },
  {
   "cell_type": "markdown",
   "metadata": {},
   "source": [
    "`DATAFRAMENAME.groupby( ‘COLNAME’ )`\n",
    "- Grouping rows of a data frame based on values in column **COLNAME**\n",
    "  \n",
    "`GROUPEDDATAFRAME.agg( {‘COLNAME1’: ‘*aggregatefunction1’, ‘COLNAME2’: ‘aggregatefunction2’ })`\n",
    "- Computing an aggregate information of values in **COLNAME1, COLNAME2,** etc.\n",
    "- The aggregate function to use could be (among others):\n",
    "    - count\n",
    "    - mean\n",
    "    - max\n",
    "    - min\n"
   ]
  },
  {
   "cell_type": "code",
   "execution_count": null,
   "metadata": {},
   "outputs": [],
   "source": []
  },
  {
   "cell_type": "code",
   "execution_count": null,
   "metadata": {},
   "outputs": [],
   "source": []
  },
  {
   "cell_type": "code",
   "execution_count": null,
   "metadata": {},
   "outputs": [],
   "source": []
  },
  {
   "cell_type": "markdown",
   "metadata": {},
   "source": [
    "## Saving Your New Data"
   ]
  },
  {
   "cell_type": "markdown",
   "metadata": {},
   "source": [
    "After creating your own dataframe, sometimes it is ideal to save your data as a .csv file for future use.\n",
    "\n",
    "`DATAFRAMENAME.to_csv( ‘FILENAME.csv’ )`"
   ]
  },
  {
   "cell_type": "code",
   "execution_count": null,
   "metadata": {},
   "outputs": [],
   "source": []
  },
  {
   "cell_type": "code",
   "execution_count": null,
   "metadata": {},
   "outputs": [],
   "source": []
  },
  {
   "cell_type": "markdown",
   "metadata": {},
   "source": [
    "## More Resources"
   ]
  },
  {
   "cell_type": "markdown",
   "metadata": {},
   "source": [
    "- https://pandas.pydata.org/docs/reference/api/pandas.DataFrame.html\n",
    "- https://pandas.pydata.org/docs/reference/api/pandas.read_csv.html#pandas.read_csv\n",
    "- https://pandas.pydata.org/docs/reference/api/pandas.DataFrame.to_csv.html#pandas.DataFrame.to_csv"
   ]
  },
  {
   "cell_type": "code",
   "execution_count": null,
   "metadata": {},
   "outputs": [],
   "source": []
  },
  {
   "cell_type": "code",
   "execution_count": null,
   "metadata": {
    "scrolled": true
   },
   "outputs": [],
   "source": []
  }
 ],
 "metadata": {
  "kernelspec": {
   "display_name": "Python [conda env:py3-11]",
   "language": "python",
   "name": "conda-env-py3-11-py"
  },
  "language_info": {
   "codemirror_mode": {
    "name": "ipython",
    "version": 3
   },
   "file_extension": ".py",
   "mimetype": "text/x-python",
   "name": "python",
   "nbconvert_exporter": "python",
   "pygments_lexer": "ipython3",
   "version": "3.11.9"
  }
 },
 "nbformat": 4,
 "nbformat_minor": 4
}
