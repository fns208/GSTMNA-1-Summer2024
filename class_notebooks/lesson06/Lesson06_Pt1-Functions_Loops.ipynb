{
 "cells": [
  {
   "cell_type": "markdown",
   "metadata": {
    "slideshow": {
     "slide_type": "slide"
    }
   },
   "source": [
    "# Lesson 6: Functions & Loops\n",
    "\n",
    "Today:\n",
    "1. Programming Elements: Functions\n",
    "    + Why define our own functions\n",
    "    + How to define your own functions in python\n",
    "    + Application to classification\n",
    "2. Programming Elements: Loops\n",
    "    + Understanding the `for` loop\n",
    "    + Tracing how variables change values during loops\n",
    "    + Accessing entries of a data frame using loops\n",
    "3. Application to classification"
   ]
  },
  {
   "cell_type": "code",
   "execution_count": null,
   "metadata": {},
   "outputs": [],
   "source": [
    "import pandas as pd\n",
    "import numpy as np\n",
    "import seaborn as sns"
   ]
  },
  {
   "cell_type": "markdown",
   "metadata": {},
   "source": [
    "## Class Starter"
   ]
  },
  {
   "cell_type": "markdown",
   "metadata": {},
   "source": [
    "Suppose that we have the following python commands\n",
    "\n",
    "    total_purchase = 49\n",
    "    x = total_purchase >= 75\n",
    "    ships_to_US_address = True\n",
    "\n",
    "    is_shipping_free = ships_to_US_address or x\n",
    "\n",
    "Which of the following is a correct statement about \n",
    "- the value stored in the name `is_shipping_free`, and \n",
    "- what `x` represents?\n",
    "\n",
    "  \n",
    "<p>A. is_shipping_free is True; x checks if your total purchase is 75 or greater</p>\n",
    "<p>B. is_shipping_free is True; x checks if shipping is free</p>\n",
    "<p>C. is_shipping_free is False; x checks if your total purchase is 75 or greater</p>\n",
    "<p>D. is_shipping_free is False; x checks if shipping is free</p>\n",
    "<p>E. Statements A-D are all false</p>\n",
    "\n",
    "Respond on PollEV: https://pollev.com/fshum"
   ]
  },
  {
   "cell_type": "markdown",
   "metadata": {},
   "source": [
    "Answer: "
   ]
  },
  {
   "cell_type": "markdown",
   "metadata": {
    "slideshow": {
     "slide_type": "slide"
    }
   },
   "source": [
    "## 1. Functions"
   ]
  },
  {
   "cell_type": "markdown",
   "metadata": {},
   "source": [
    "### Functions in Python"
   ]
  },
  {
   "cell_type": "markdown",
   "metadata": {},
   "source": [
    "We have used many functions in python. For example: \n",
    "- print()\n",
    "- sum([1, 3]) returns 4\n",
    "- np.mean([1,3]) returns 2\n",
    "- etc.\n",
    "\n",
    "There are a lot of useful functions in python that we can use. However, sometimes we have a specific task for which we need to write our own python function."
   ]
  },
  {
   "cell_type": "markdown",
   "metadata": {},
   "source": [
    "### Why define our own functions"
   ]
  },
  {
   "cell_type": "markdown",
   "metadata": {
    "slideshow": {
     "slide_type": "subslide"
    }
   },
   "source": [
    "**Example**\n",
    "\n",
    "You decided to check out a very popular East Village ramen restaurant for dinner on Friday night.  After waiting in line for two hours, you are finally seated.  As you are reading the menu, you realized that this restaurant is cash-only.  You have $28.75 with you and need to make sure that you have enough cash to pay for the dinner, including the 8.875% tax and the tip.\n",
    "\n",
    "You are considering ordering a $\\$$15 dish and a $\\$$6 beverage.  How much would you have to pay if you are giving an 18% tip?"
   ]
  },
  {
   "cell_type": "code",
   "execution_count": null,
   "metadata": {
    "slideshow": {
     "slide_type": "fragment"
    }
   },
   "outputs": [],
   "source": [
    "subtotal = 15 + 6\n",
    "tip = subtotal * 0.18\n",
    "tax = subtotal * .08875\n",
    "total = subtotal + tip + tax\n",
    "\n",
    "total"
   ]
  },
  {
   "cell_type": "code",
   "execution_count": null,
   "metadata": {},
   "outputs": [],
   "source": []
  },
  {
   "cell_type": "markdown",
   "metadata": {
    "slideshow": {
     "slide_type": "subslide"
    }
   },
   "source": [
    "**Example, continued**\n",
    "\n",
    "With 28.75 in your pocket, knowing that you still have some cash leftover, you wonder if you could afford a $\\$$17 dish and a $\\$$6 beverage, with the same 8.875\\% tax and 18\\% tip."
   ]
  },
  {
   "cell_type": "code",
   "execution_count": null,
   "metadata": {
    "slideshow": {
     "slide_type": "fragment"
    }
   },
   "outputs": [],
   "source": [
    "subtotal = 17 + 6\n",
    "tip = subtotal * 0.18\n",
    "tax = subtotal * .08875\n",
    "total = subtotal + tip + tax\n",
    "\n",
    "total"
   ]
  },
  {
   "cell_type": "code",
   "execution_count": null,
   "metadata": {},
   "outputs": [],
   "source": []
  },
  {
   "cell_type": "markdown",
   "metadata": {
    "slideshow": {
     "slide_type": "subslide"
    }
   },
   "source": [
    "**Example, continued**\n",
    "\n",
    "Since you only have $\\$$28.75 but really want that $\\$$17 dish and the $\\$$6 beverage, you wonder if you can afford this meal if you only give a 15\\% tip. "
   ]
  },
  {
   "cell_type": "code",
   "execution_count": null,
   "metadata": {
    "slideshow": {
     "slide_type": "fragment"
    }
   },
   "outputs": [],
   "source": [
    "subtotal = 17 + 6\n",
    "tip = subtotal * 0.15\n",
    "tax = subtotal * .08875\n",
    "total = subtotal + tip + tax\n",
    "\n",
    "total"
   ]
  },
  {
   "cell_type": "markdown",
   "metadata": {},
   "source": [
    "**Takeaways**:\n",
    "+ The above examples are all similar (and **repetitive**!)\n",
    "+ Same method of computation, just different numbers\n",
    "+ Wouldn't it be nice if there is a python function that allows us to do the above repetitions easily?  Something like\n",
    "\n",
    "        calculate_bill( LISTOFPRICESOFITEMS, TIPPERCENTAGE)\n",
    "  that calculates the total bill, given a list of prices/costs of items and how many percent tip we want to give"
   ]
  },
  {
   "cell_type": "markdown",
   "metadata": {},
   "source": [
    "### 1.2 How to define your own functions in python"
   ]
  },
  {
   "cell_type": "markdown",
   "metadata": {},
   "source": [
    "    def MYFUNCTION( INPUT1 , INPUT2 , ...):\n",
    "        ...\n",
    "        ...\n",
    "        return OUTPUTVALUE\n",
    "\n",
    "Here:\n",
    "- `MYFUNCTION` is the name of your new function (you choose the name)\n",
    "- `INPUT1`, `INPUT2` etc. are the input(s) to the function (you can choose the names)\n",
    "- `OUTPUTVALUE` is the name of the variable whose value is returned by the function (you can choose the name)."
   ]
  },
  {
   "cell_type": "markdown",
   "metadata": {
    "slideshow": {
     "slide_type": "subslide"
    }
   },
   "source": [
    "**Example**"
   ]
  },
  {
   "cell_type": "code",
   "execution_count": null,
   "metadata": {
    "slideshow": {
     "slide_type": "fragment"
    }
   },
   "outputs": [],
   "source": [
    "def calculate_bill(list_of_prices, tip_percentage):\n",
    "    subtotal = sum(list_of_prices)\n",
    "    tip = subtotal * tip_percentage\n",
    "    tax = subtotal * .08875\n",
    "    total = subtotal + tip + tax\n",
    "    return total\n",
    " "
   ]
  },
  {
   "cell_type": "code",
   "execution_count": null,
   "metadata": {},
   "outputs": [],
   "source": [
    "prices = [15, 6]\n",
    "tip = 0.18\n",
    "calculate_bill(prices, tip)"
   ]
  },
  {
   "cell_type": "code",
   "execution_count": null,
   "metadata": {
    "slideshow": {
     "slide_type": "fragment"
    }
   },
   "outputs": [],
   "source": [
    "prices = [17, 6]\n",
    "tip = 0.18\n",
    "calculate_bill(prices, tip)"
   ]
  },
  {
   "cell_type": "code",
   "execution_count": null,
   "metadata": {
    "slideshow": {
     "slide_type": "fragment"
    }
   },
   "outputs": [],
   "source": [
    "prices = [17, 6]\n",
    "tip = 0.15\n",
    "calculate_bill(prices, tip)"
   ]
  },
  {
   "cell_type": "code",
   "execution_count": null,
   "metadata": {},
   "outputs": [],
   "source": []
  },
  {
   "cell_type": "markdown",
   "metadata": {},
   "source": [
    "#### Concept Check"
   ]
  },
  {
   "cell_type": "markdown",
   "metadata": {},
   "source": [
    "Suppose that I came up with a new function called `myfunction()`, defined as follows\n",
    "\n",
    "\n",
    "        def myfunction ( x, y ):\n",
    "            z = x**2 + y\n",
    "        return( z )\n",
    "    \n",
    "\r",
    "If we run the command `myfunction(2, 3)`, what value would be returned by this function?\n",
    "\n",
    "A. 4\n",
    "\n",
    "B. 5\n",
    "\n",
    "C. 6\n",
    "\n",
    "D. 7\n",
    "\n",
    "E. None of the above\n",
    "\n",
    "Respond on PollEV: https://pollev.com/fshum"
   ]
  },
  {
   "cell_type": "code",
   "execution_count": null,
   "metadata": {},
   "outputs": [],
   "source": []
  },
  {
   "cell_type": "code",
   "execution_count": null,
   "metadata": {},
   "outputs": [],
   "source": []
  },
  {
   "cell_type": "markdown",
   "metadata": {},
   "source": [
    "### Activity 1\n",
    "\n",
    "Define a new function called `my_function2`, which\n",
    "+ takes three numbers as inputs: `a`, `b`, `c`, and\n",
    "+ if `a` is strictly greater than zero, then it returns as an output `b + c`;\n",
    "+ otherwise, if `a` is zero or negative, then it returns as an output `b - c`."
   ]
  },
  {
   "cell_type": "code",
   "execution_count": null,
   "metadata": {},
   "outputs": [],
   "source": []
  },
  {
   "cell_type": "code",
   "execution_count": null,
   "metadata": {},
   "outputs": [],
   "source": []
  },
  {
   "cell_type": "code",
   "execution_count": null,
   "metadata": {
    "scrolled": true
   },
   "outputs": [],
   "source": []
  },
  {
   "cell_type": "code",
   "execution_count": null,
   "metadata": {},
   "outputs": [],
   "source": []
  },
  {
   "cell_type": "markdown",
   "metadata": {
    "slideshow": {
     "slide_type": "subslide"
    }
   },
   "source": [
    "### Activity 2\n",
    "\n",
    "Example:\n",
    "\n",
    "If we invest 1000 with 2% annual interest rate: after n years, $1000 * (1 + 0.02) ^n$\n",
    "\n",
    "Define a new function called `compound_interest()` which takes three inputs\n",
    "+ `initial_deposit`: the amount you deposited in the savings account\n",
    "+ `interest_rate`: the annual interest rate of the account (in decimal)\n",
    "+ `num_years`: the number of years the initial deposit stays in the account\n",
    "\n",
    "and outputs/returns `account_total`, the total amount in the savings count after the specified number of years,\n",
    "\n",
    "Then, check by using the function to compute the total amount in the account if:\n",
    "+ we initially deposited 1000 dollars, the annual interest rate is 0.02, and we keep the account for 2 years \n",
    "+ we initially deposited 1250 dollars, the annual interest rate is 0.03, and we keep the account for 30 years \n",
    "+ try other inputs!"
   ]
  },
  {
   "cell_type": "code",
   "execution_count": null,
   "metadata": {
    "slideshow": {
     "slide_type": "fragment"
    }
   },
   "outputs": [],
   "source": []
  },
  {
   "cell_type": "code",
   "execution_count": null,
   "metadata": {},
   "outputs": [],
   "source": []
  },
  {
   "cell_type": "code",
   "execution_count": null,
   "metadata": {
    "slideshow": {
     "slide_type": "-"
    }
   },
   "outputs": [],
   "source": []
  },
  {
   "cell_type": "code",
   "execution_count": null,
   "metadata": {
    "slideshow": {
     "slide_type": "-"
    }
   },
   "outputs": [],
   "source": []
  },
  {
   "cell_type": "markdown",
   "metadata": {},
   "source": [
    "## 2. Loops"
   ]
  },
  {
   "cell_type": "markdown",
   "metadata": {},
   "source": [
    "“Loops” are used when we want to repeat the same task for each member of a list."
   ]
  },
  {
   "cell_type": "markdown",
   "metadata": {},
   "source": [
    "### 2.1. Understanding `for` loops\n",
    "\n",
    "To repeat TASK for each VALUE in the list LIST\n",
    "\n",
    "    for( VALUE in LIST ):\n",
    "        TASKS"
   ]
  },
  {
   "cell_type": "code",
   "execution_count": null,
   "metadata": {},
   "outputs": [],
   "source": []
  },
  {
   "cell_type": "code",
   "execution_count": null,
   "metadata": {},
   "outputs": [],
   "source": []
  },
  {
   "cell_type": "code",
   "execution_count": null,
   "metadata": {},
   "outputs": [],
   "source": []
  },
  {
   "cell_type": "code",
   "execution_count": null,
   "metadata": {},
   "outputs": [],
   "source": []
  },
  {
   "cell_type": "code",
   "execution_count": null,
   "metadata": {},
   "outputs": [],
   "source": []
  },
  {
   "cell_type": "markdown",
   "metadata": {},
   "source": [
    "**Example**\n",
    "\n",
    "Suppose we want to display the text:  \n",
    "\n",
    "\"1 squared is 1\"\n",
    "\n",
    "\"2 squared is 4\"\n",
    "\n",
    "... up to\n",
    "\n",
    "\"20 squared is 400\""
   ]
  },
  {
   "cell_type": "code",
   "execution_count": null,
   "metadata": {},
   "outputs": [],
   "source": [
    "numlist = np.arange(1, 21)"
   ]
  },
  {
   "cell_type": "code",
   "execution_count": null,
   "metadata": {},
   "outputs": [],
   "source": [
    "numlist"
   ]
  },
  {
   "cell_type": "code",
   "execution_count": null,
   "metadata": {},
   "outputs": [],
   "source": [
    "for x in numlist:\n",
    "    print(x, ' squared is ', x ** 2)"
   ]
  },
  {
   "cell_type": "markdown",
   "metadata": {},
   "source": [
    "### Activity\n",
    "\n",
    "Suppose we want to display the text:  \n",
    "\n",
    "\"1 cubed is 1\"\n",
    "\n",
    "\"2 cubed is 8\"\n",
    "\n",
    "\"3 cubed is 27\"\n",
    "\n",
    "... up to\n",
    "\n",
    "\"20 cubed is 8000\"\n",
    "\n",
    "**Write a for loop that accomplishes this task.**"
   ]
  },
  {
   "cell_type": "code",
   "execution_count": null,
   "metadata": {},
   "outputs": [],
   "source": []
  },
  {
   "cell_type": "code",
   "execution_count": null,
   "metadata": {},
   "outputs": [],
   "source": []
  },
  {
   "cell_type": "markdown",
   "metadata": {},
   "source": [
    "### Activity\n",
    "\n",
    "Suppose we want to display the text:  \n",
    "\n",
    "\"1 cubed is 1\"\n",
    "\n",
    "\"3 cubed is 27\"\n",
    "\n",
    "\"5 cubed is 125\"\n",
    "\n",
    "... up to\n",
    "\n",
    "\"25 cubed is 15625\"\n",
    "\n",
    "**Write a for loop that accomplishes this task.**"
   ]
  },
  {
   "cell_type": "code",
   "execution_count": null,
   "metadata": {},
   "outputs": [],
   "source": []
  },
  {
   "cell_type": "code",
   "execution_count": null,
   "metadata": {},
   "outputs": [],
   "source": []
  },
  {
   "cell_type": "code",
   "execution_count": null,
   "metadata": {},
   "outputs": [],
   "source": []
  },
  {
   "cell_type": "markdown",
   "metadata": {},
   "source": [
    "### 2.2 Tracing how variables change values during loops"
   ]
  },
  {
   "cell_type": "markdown",
   "metadata": {},
   "source": [
    "**Example: Trace what's going on with the following for-loop.**"
   ]
  },
  {
   "cell_type": "code",
   "execution_count": null,
   "metadata": {},
   "outputs": [],
   "source": [
    "mylist = [-3, 5, 0, 7, 10]\n",
    "y = 1\n",
    "for x in mylist:\n",
    "    y = x+y\n",
    "    z = y ** 2\n",
    "    print(z)"
   ]
  },
  {
   "cell_type": "markdown",
   "metadata": {},
   "source": [
    "| x | y | z |\n",
    "| --- | --- | --- |\n",
    "| | 1 | |\n",
    "| -3 | -2 | 4 |\n",
    "| 5 | 3 | 9 |\n",
    "| 0 | 3 | 9 |\n",
    "| 7 | 10 | 100 |\n",
    "| 10 | 20 | 400 |"
   ]
  },
  {
   "cell_type": "code",
   "execution_count": null,
   "metadata": {},
   "outputs": [],
   "source": []
  },
  {
   "cell_type": "markdown",
   "metadata": {},
   "source": [
    "**Concept Check 1:**\n",
    "\n",
    "What will the following for loop do?\n",
    "\n",
    "    a=0\n",
    "    for i in [1, 2, 3, 4]:\n",
    "        a = a + i\n",
    "    print(a)\n",
    "\n",
    "A. It will print out the values: 1, 2, 3, 4\n",
    "\n",
    "B. It will print out the values: 0, 1, 3, 6, 10\n",
    "\n",
    "C. It will print out the values: 1, 3, 6, 10\n",
    "\n",
    "D. It will print out the value: 4\n",
    "\n",
    "E. It will print out the value: 10\n",
    "\n",
    "F. None of the above"
   ]
  },
  {
   "cell_type": "code",
   "execution_count": null,
   "metadata": {},
   "outputs": [],
   "source": []
  },
  {
   "cell_type": "markdown",
   "metadata": {},
   "source": [
    "**Concept Check 2:**\n",
    "\n",
    "What will the following for loop do?\n",
    "\n",
    "    a=0\n",
    "    for i in [1, 2, 3, 4]:\n",
    "        a = a + i\n",
    "        print(a)\n",
    "\n",
    "A. It will print out the values: 1, 2, 3, 4\n",
    "\n",
    "B. It will print out the values: 0, 1, 3, 6, 10\n",
    "\n",
    "C. It will print out the values: 1, 3, 6, 10\n",
    "\n",
    "D. It will print out the value: 4\n",
    "\n",
    "E. It will print out the value: 10\n",
    "\n",
    "F. None of the above"
   ]
  },
  {
   "cell_type": "code",
   "execution_count": null,
   "metadata": {
    "scrolled": true
   },
   "outputs": [],
   "source": []
  },
  {
   "cell_type": "code",
   "execution_count": null,
   "metadata": {},
   "outputs": [],
   "source": []
  },
  {
   "cell_type": "markdown",
   "metadata": {},
   "source": [
    "**Example**\n",
    "\n",
    "Recall our `calculate_bill()` function from above, reproduced below."
   ]
  },
  {
   "cell_type": "code",
   "execution_count": null,
   "metadata": {},
   "outputs": [],
   "source": [
    "# copy and paste function below\n",
    "def calculate_bill(list_of_prices, tip_percentage):\n",
    "    subtotal = sum(list_of_prices)\n",
    "    tip = subtotal * tip_percentage\n",
    "    tax = subtotal * .08875\n",
    "    total = subtotal + tip + tax\n",
    "    return total\n"
   ]
  },
  {
   "cell_type": "markdown",
   "metadata": {},
   "source": [
    "Suppose that we would like to compute possible bills for a few different tip percentages, from 10\\%, 11%, 12%, ..., to 25\\%, if we order the following items:\n",
    "+ an \\$7 appetizer\n",
    "+ a \\$15 entree\n",
    "+ a \\$17 entree\n",
    "+ two \\$6 beverages."
   ]
  },
  {
   "cell_type": "code",
   "execution_count": null,
   "metadata": {},
   "outputs": [],
   "source": []
  },
  {
   "cell_type": "code",
   "execution_count": null,
   "metadata": {},
   "outputs": [],
   "source": []
  },
  {
   "cell_type": "code",
   "execution_count": null,
   "metadata": {},
   "outputs": [],
   "source": []
  },
  {
   "cell_type": "markdown",
   "metadata": {},
   "source": [
    "### 2.3. Accessing entries of a data frame during loops\n",
    "\n",
    "Suppose that we would like to store the values that we computed during loops into a table."
   ]
  },
  {
   "cell_type": "markdown",
   "metadata": {},
   "source": [
    "**Example**\n",
    "\n",
    "Create a data frame called `squares` which has 20 rows and 2 columns:\n",
    "\n",
    "<table>\n",
    "    <tr>\n",
    "        <th>n</th>\n",
    "        <th>n_squared</th>\n",
    "    </tr>    \n",
    "    <tr>\n",
    "        <td>1</td>\n",
    "        <td>1</td>\n",
    "    </tr>    \n",
    "    <tr>\n",
    "        <td>2</td>\n",
    "        <td>4</td>\n",
    "    </tr>    \n",
    "    <tr>\n",
    "        <td>3</td>\n",
    "        <td>9</td>\n",
    "    </tr>    \n",
    "    <tr>\n",
    "        <td>...</td>\n",
    "        <td>...</td>\n",
    "    </tr>    \n",
    "    <tr>\n",
    "        <td>19</td>\n",
    "        <td>361</td>\n",
    "    </tr>\n",
    "    <tr>\n",
    "        <td>20</td>\n",
    "        <td>400</td>\n",
    "    </tr>\n",
    "</table>"
   ]
  },
  {
   "cell_type": "code",
   "execution_count": null,
   "metadata": {
    "scrolled": true
   },
   "outputs": [],
   "source": [
    "squares = pd.DataFrame(np.empty((20, 2)), columns = ['n', 'n_squared'])\n",
    "squares\n",
    "                    "
   ]
  },
  {
   "cell_type": "code",
   "execution_count": null,
   "metadata": {
    "scrolled": true
   },
   "outputs": [],
   "source": [
    "squares = pd.DataFrame(index=range(20), columns = ['n', 'n_squared'])\n",
    "squares"
   ]
  },
  {
   "cell_type": "code",
   "execution_count": null,
   "metadata": {},
   "outputs": [],
   "source": [
    "# fill in the empty data frame row by row\n",
    "for row in range(20):\n",
    "    n = row + 1\n",
    "    squares.loc[row, 'n'] = n\n",
    "    squares.loc[row, 'n_squared'] = n **2\n",
    "\n",
    "squares\n"
   ]
  },
  {
   "cell_type": "code",
   "execution_count": null,
   "metadata": {},
   "outputs": [],
   "source": []
  },
  {
   "cell_type": "code",
   "execution_count": null,
   "metadata": {},
   "outputs": [],
   "source": []
  },
  {
   "cell_type": "code",
   "execution_count": null,
   "metadata": {},
   "outputs": [],
   "source": [
    "# note: the above can be done without a for loop\n",
    "#  using a method we learned earlier in the semester\n",
    "\n",
    "squares_2 = pd.DataFrame(index=range(20), columns = ['n', 'n_squared'])\n",
    "squares_2['n'] = np.arange(1, 21)\n",
    "squares_2['n_squared'] = squares_2['n'] ** 2\n",
    "squares_2\n",
    "\n",
    "\n",
    "\n",
    "\n",
    "# so why did we use a for loop?  \n",
    "#  There are similar tasks that cannot be done using this more straightforward method\n",
    "#   See the next example"
   ]
  },
  {
   "cell_type": "code",
   "execution_count": null,
   "metadata": {},
   "outputs": [],
   "source": []
  },
  {
   "cell_type": "code",
   "execution_count": null,
   "metadata": {},
   "outputs": [],
   "source": []
  },
  {
   "cell_type": "markdown",
   "metadata": {},
   "source": [
    "**Activity**\n",
    "\n",
    "we defined a new function called `my_function2`, which\n",
    "+ takes three numbers as inputs: `a`, `b`, `c`, and\n",
    "+ if `a` is strictly greater than zero, then it returns as an output `b + c`;\n",
    "+ otherwise, if `a` is zero or negative, then it returns as an output `b - c`.\n",
    "\n",
    "We want to record the outputs of `my_function2` for various values of a, b, and c in the data frame called `records` below:\n",
    "\n",
    "<table>\n",
    "    <tr>\n",
    "        <th>a</th>\n",
    "        <th>b</th>\n",
    "        <th>c</th>\n",
    "        <th>output</th>\n",
    "    </tr>\n",
    "    <tr>\n",
    "        <td>3</td>\n",
    "        <td>1</td>\n",
    "        <td>3</td>\n",
    "        <td> </td>\n",
    "    </tr>\n",
    "    <tr>\n",
    "        <td>-2</td>\n",
    "        <td>10</td>\n",
    "        <td>3</td>\n",
    "        <td> </td>\n",
    "    </tr>\n",
    "    <tr>\n",
    "        <td>1</td>\n",
    "        <td>4</td>\n",
    "        <td>9</td>\n",
    "        <td> </td>\n",
    "    </tr>\n",
    "    <tr>\n",
    "        <td>0</td>\n",
    "        <td>4</td>\n",
    "        <td>8</td>\n",
    "        <td> </td>\n",
    "    </tr>\n",
    "</table>\n"
   ]
  },
  {
   "cell_type": "code",
   "execution_count": null,
   "metadata": {},
   "outputs": [],
   "source": [
    "# do not modify this cell\n",
    "\n",
    "records = pd.DataFrame( {'a': [3, -2, 1, 0],\n",
    "                         'b': [1, 10, 4, 4],\n",
    "                         'c': [3, 3, 9, 8],\n",
    "                         'output': [0, 0, 0, 0]} )\n",
    "records"
   ]
  },
  {
   "cell_type": "code",
   "execution_count": null,
   "metadata": {},
   "outputs": [],
   "source": [
    "# copy and paste function below\n"
   ]
  },
  {
   "cell_type": "code",
   "execution_count": null,
   "metadata": {},
   "outputs": [],
   "source": [
    "# filling in the output column in the records data frame \"by hand\" / row by row\n",
    "## this is fine because we have only four rows!\n",
    "## we probably don't want to do this if we have hundreds of rows\n",
    "\n",
    "for row in range(4):\n",
    "    records.iloc[row, 3] = my_function2(records.iloc[row, 0], records.iloc[row, 1], records.iloc[row, 2])\n",
    "\n",
    "records"
   ]
  },
  {
   "cell_type": "code",
   "execution_count": null,
   "metadata": {},
   "outputs": [],
   "source": [
    "# do not modify this cell\n",
    "\n",
    "records = pd.DataFrame( {'a': [3, -2, 1, 0],\n",
    "                         'b': [1, 10, 4, 4],\n",
    "                         'c': [3, 3, 9, 8],\n",
    "                         'output': [0, 0, 0, 0]} )\n",
    "records"
   ]
  },
  {
   "cell_type": "code",
   "execution_count": null,
   "metadata": {},
   "outputs": [],
   "source": [
    "records['output'] = my_function2(records['a'], records['b'], records['c'])"
   ]
  },
  {
   "cell_type": "code",
   "execution_count": null,
   "metadata": {},
   "outputs": [],
   "source": []
  },
  {
   "cell_type": "markdown",
   "metadata": {},
   "source": [
    "**Example**\n",
    "\n",
    "Suppose that we would like to compute possible bills for a few different tip percentages, from 10\\%, 11%, 12%, ..., to 25\\%, if we order the following items:\n",
    "+ an \\$7 appetizer\n",
    "+ a \\$15 entree\n",
    "+ a \\$17 entree\n",
    "+ two \\$6 beverage.\n",
    "\n",
    "We would like to create a data frame with 2 columns and one row for each possible tip percentages.  The first column is the tip percentage itself and the second column is the total bill:\n",
    "\n",
    "<table>\n",
    "    <tr>\n",
    "        <th>tip_percentage</th>\n",
    "        <th>total</th>\n",
    "    </tr>    \n",
    "    <tr>\n",
    "        <td>10</td>\n",
    "        <td>60.62625</td>\n",
    "    </tr>    \n",
    "    <tr>\n",
    "        <td>11</td>\n",
    "        <td>61.64625</td>\n",
    "    </tr>    \n",
    "    <tr>\n",
    "        <td>12</td>\n",
    "        <td>62.15625</td>\n",
    "    </tr>    \n",
    "    <tr>\n",
    "        <td>...</td>\n",
    "        <td>...</td>\n",
    "    </tr>\n",
    "    <tr>\n",
    "        <td>24</td>\n",
    "        <td>67.76625</td>\n",
    "    </tr>\n",
    "    <tr>\n",
    "        <td>25</td>\n",
    "        <td>68.27625</td>\n",
    "    </tr>\n",
    "</table>\n",
    "\n"
   ]
  },
  {
   "cell_type": "code",
   "execution_count": null,
   "metadata": {},
   "outputs": [],
   "source": [
    "def calculate_bill( list_of_prices, tip_percentage ):\n",
    "    # compute based on inputs\n",
    "    subtotal = sum(list_of_prices)\n",
    "    total = subtotal * (1 + tip_percentage + 0.08875 )\n",
    "    \n",
    "    return total "
   ]
  },
  {
   "cell_type": "code",
   "execution_count": null,
   "metadata": {},
   "outputs": [],
   "source": [
    "bill_tip = pd.DataFrame( index = range(16), columns = ['tip_percentage', 'total']  )\n",
    "tip_range = np.arange(10, 26)\n",
    "prices = [7, 15, 17, 6, 6]\n",
    "for row in range(16):\n",
    "    t = tip_range[row]\n",
    "    bill_tip.iat[row, 0] = t\n",
    "    tip = t *.01\n",
    "    bill_tip.iat[row, 1] = calculate_bill(prices, tip)\n",
    "bill_tip"
   ]
  },
  {
   "cell_type": "markdown",
   "metadata": {},
   "source": [
    "**Exercise**\n",
    "\n",
    "We defined a new function called `compound_interest()` which takes three inputs\n",
    "+ `initial_deposit`: the amount you deposited in the savings account\n",
    "+ `interest_rate`: the annual interest rate of the account (in decimal)\n",
    "+ `num_years`: the number of years the initial deposit stays in the account\n",
    "\n",
    "and outputs/returns the total amount in the savings count after the specified number of years.  (The function definition is included in the code cell below.)\n",
    "\n",
    "Suppose that you invested 1000 dollars in a savings account that has a 2% annual interest rate that is added annually.\n",
    "\n",
    "Create a data frame called `account` which has \n",
    "+ two columns: `num_years` and `amount`; the `amount` column will store the amount in the account for the given number of years, from year 0 to year 30.\n",
    "\n",
    "<table>\n",
    "    <tr>\n",
    "        <th>num_years</th>\n",
    "        <th>amount</th>\n",
    "    </tr>    \n",
    "    <tr>\n",
    "        <td>0</td>\n",
    "        <td>1000</td>\n",
    "    </tr>    \n",
    "    <tr>\n",
    "        <td>1</td>\n",
    "        <td>1020</td>\n",
    "    </tr>    \n",
    "    <tr>\n",
    "        <td>2</td>\n",
    "        <td>1040.4</td>\n",
    "    </tr>    \n",
    "    <tr>\n",
    "        <td>...</td>\n",
    "        <td>...</td>\n",
    "    </tr>\n",
    "    <tr>\n",
    "        <td>29</td>\n",
    "        <td>1775.84469029741 </td>\n",
    "    </tr>\n",
    "    <tr>\n",
    "        <td>30</td>\n",
    "        <td>1811.36158410335</td>\n",
    "    </tr>\n",
    "</table>"
   ]
  },
  {
   "cell_type": "code",
   "execution_count": null,
   "metadata": {},
   "outputs": [],
   "source": []
  },
  {
   "cell_type": "code",
   "execution_count": null,
   "metadata": {},
   "outputs": [],
   "source": []
  },
  {
   "cell_type": "markdown",
   "metadata": {
    "slideshow": {
     "slide_type": "slide"
    }
   },
   "source": [
    "## 3. Application to Classification\n",
    "\n",
    "Consider the second simple classifier which we did last class\n"
   ]
  },
  {
   "cell_type": "markdown",
   "metadata": {
    "slideshow": {
     "slide_type": "subslide"
    }
   },
   "source": [
    "**Example: Encoding a simple classifier (version 2)**\n",
    "\n",
    "<table>\n",
    "    <tr>\n",
    "        <td><img src=\"images/lec20-knn-illustration2_wline2.jpg\" width=\"600\"></td>\n",
    "        <td><img src=\"images/dec_tree1b.jpg\" width=\"600\"></td>\n",
    "    </tr>\n",
    "</table>  "
   ]
  },
  {
   "cell_type": "markdown",
   "metadata": {},
   "source": [
    "It would be nice if we can write a function that:\n",
    "- takes as inputs: marginal adhesion and clump thickness values\n",
    "- outputs: a prediction of 0 or 1 based on the decision tree we constructed\n",
    "\n",
    "For example:\r\n",
    "\n",
    "    ma = 3 \n",
    "    ct = 5\n",
    "    \n",
    "    predicted_class = predict_tumor_class( ma, ct )"
   ]
  },
  {
   "cell_type": "code",
   "execution_count": null,
   "metadata": {},
   "outputs": [],
   "source": [
    "import pandas as pd\n",
    "import numpy as np\n",
    "import seaborn as sns\n",
    "cancerdata = pd.read_csv('../../../shared/datasets/cancer.csv')"
   ]
  },
  {
   "cell_type": "code",
   "execution_count": null,
   "metadata": {},
   "outputs": [],
   "source": [
    "# as we did in lesson 5, split into training and test datasets:\n",
    "#      split the cancer dataset into two: training data and test data \n",
    "X = cancerdata.iloc[ :  ,  1:10  ]\n",
    "Y = cancerdata['Class']\n",
    "\n",
    "from sklearn.model_selection import train_test_split\n",
    "\n",
    "X_train, X_test,  Y_train, Y_test = train_test_split( X, Y, test_size = 0.3 , random_state = 1110 )\n",
    "\n",
    "# explore the training dataset\n",
    "\n",
    "# combine X_train and Y_train into one dataset \n",
    "#  concatenate the Y_train dataset as another column on X_train\n",
    "training_data = pd.concat( [ X_train, Y_train ], axis = 1  )\n",
    "\n",
    "training_data.head()"
   ]
  },
  {
   "cell_type": "code",
   "execution_count": null,
   "metadata": {},
   "outputs": [],
   "source": [
    "test_data = pd.concat( [ X_test, Y_test ], axis = 1  )"
   ]
  },
  {
   "cell_type": "code",
   "execution_count": null,
   "metadata": {},
   "outputs": [],
   "source": [
    "test_data.head()"
   ]
  },
  {
   "cell_type": "code",
   "execution_count": null,
   "metadata": {},
   "outputs": [],
   "source": [
    "test_data.shape"
   ]
  },
  {
   "cell_type": "code",
   "execution_count": null,
   "metadata": {},
   "outputs": [],
   "source": [
    "# Note the index is not in consecutive order from 0\n",
    "test_data.index = range(205)"
   ]
  },
  {
   "cell_type": "code",
   "execution_count": null,
   "metadata": {},
   "outputs": [],
   "source": [
    "test_data.head()"
   ]
  },
  {
   "cell_type": "code",
   "execution_count": null,
   "metadata": {
    "slideshow": {
     "slide_type": "subslide"
    }
   },
   "outputs": [],
   "source": [
    "# this is a simple classifier that we constructed in the notebook for Lesson05_Pt2\n",
    "\n",
    "# the decision tree:\n",
    "# If marginal_adhesion is less than 4 AND clump_thickness is less than 7, the tumor is classified as 0 (benign); \n",
    "# else, it is classified as 1 (malignant)\n",
    "\n",
    "\n",
    "# example of a new data point\n",
    "marginal_adhesion = 2\n",
    "clump_thickness = 1\n",
    "\n",
    "if (marginal_adhesion < 4 and clump_thickness < 7):\n",
    "    class_predicted = 0\n",
    "else:\n",
    "    class_predicted = 1\n",
    "\n",
    "class_predicted"
   ]
  },
  {
   "cell_type": "markdown",
   "metadata": {
    "slideshow": {
     "slide_type": "subslide"
    }
   },
   "source": [
    "**We will \"wrap\" our classifier as a task done by a new function** which we will name `predict_tumor_class()`"
   ]
  },
  {
   "cell_type": "markdown",
   "metadata": {
    "slideshow": {
     "slide_type": "fragment"
    }
   },
   "source": [
    "+ inputs: two numbers: `marginal_adhesion` and `clump_thickness`\n",
    "+ output: one number: 0 if we predict the tumor to be benign, 1 otherwise"
   ]
  },
  {
   "cell_type": "markdown",
   "metadata": {
    "slideshow": {
     "slide_type": "subslide"
    }
   },
   "source": [
    "`Z = predict_tumor_class( X, Y )`\n",
    "\n",
    "where\n",
    "+ X = marginal adhesion value\n",
    "+ Y = clump thickness value\n",
    "+ Z = the prediction that your decision tree classifier makes for the given values of X and Y"
   ]
  },
  {
   "cell_type": "code",
   "execution_count": null,
   "metadata": {
    "slideshow": {
     "slide_type": "subslide"
    }
   },
   "outputs": [],
   "source": [
    "def predict_tumor_class( x , y ):\n",
    "    # x = marginal_adhesion\n",
    "    # y = clump thickness\n",
    "    \n",
    "    if (x < 4 and y < 7):\n",
    "        class_predicted = 0\n",
    "    else:\n",
    "        class_predicted = 1\n",
    "    \n",
    "    return( class_predicted )"
   ]
  },
  {
   "cell_type": "code",
   "execution_count": null,
   "metadata": {
    "slideshow": {
     "slide_type": "slide"
    }
   },
   "outputs": [],
   "source": [
    "predict_tumor_class(2, 1)"
   ]
  },
  {
   "cell_type": "code",
   "execution_count": null,
   "metadata": {},
   "outputs": [],
   "source": [
    "predict_tumor_class( X_test.iloc[0].at[ 'Marginal Adhesion'], X_test.iloc[0].at[ 'Clump Thickness'] ) # row 1"
   ]
  },
  {
   "cell_type": "code",
   "execution_count": null,
   "metadata": {},
   "outputs": [],
   "source": [
    "# predict the class of the first four rows of the test dataset,\n",
    "\n",
    "predict_tumor_class( X_test.iloc[0].at[ 'Marginal Adhesion'], X_test.iloc[0].at[ 'Clump Thickness'] ) # row 1\n",
    "\n",
    "predict_tumor_class( X_test.iloc[1].at[ 'Marginal Adhesion'], X_test.iloc[1].at[ 'Clump Thickness'] ) # row 2\n",
    "\n",
    "predict_tumor_class( X_test.iloc[2].at[ 'Marginal Adhesion'], X_test.iloc[2].at[ 'Clump Thickness'] ) # row 3\n",
    "\n",
    "predict_tumor_class( X_test.iloc[3].at[ 'Marginal Adhesion'], X_test.iloc[3].at[ 'Clump Thickness'] ) # row 4\n",
    "\n",
    "# etc, but there are 205 rows, so we don't want to do this by hand.\n",
    "\n",
    "\n",
    "# note that we are REPEATING the same command, but with different row numbers\n",
    "#  that is, each line is of the form\n",
    "\n",
    "# predict_tumor_class( X_test.iloc[row].at[ 'Marginal Adhesion'], X_test.iloc[row].at[ 'Clump Thickness'] )\n",
    "\n",
    "# also note that the predictions are not being saved anywhere\n",
    "\n",
    "\n",
    "\n"
   ]
  },
  {
   "cell_type": "code",
   "execution_count": null,
   "metadata": {},
   "outputs": [],
   "source": [
    "# create an empty data frame, 1 column, 205 rows\n",
    "\n",
    "predictions =pd.DataFrame(index=range(205), columns=['class_predicted'])\n",
    "\n",
    "# store the predictions in this data frame\n",
    "for row in range(205):\n",
    "    output = predict_tumor_class( X_test.iloc[row].at[ 'Marginal Adhesion'], X_test.iloc[row].at[ 'Clump Thickness'] )\n",
    "    predictions.iat[row, 0] = output\n",
    "\n",
    "# Next, check how good our predictions are, by comparing to the actual class\n",
    "\n",
    "# add a second column containing the actual class into the predictions data frame\n",
    "# the method below requires the indexes to match, had to rename the index above.\n",
    "predictions['class_actual'] = test_data['Class']\n",
    "### Alternatives to adding a new column\n",
    "# start off creating the column in the beginning: \n",
    "# then use a for loop to enter the entries one by one\n",
    "# for row in np.arange(0, num_rows_test):\n",
    "#    predictions.iloc[row, 1] = predict_tumor_class( X.iloc[row, 0], X.iloc[row, 1] )\n",
    "#    predictions.iloc[row, 0] = y_test.iloc[row]\n",
    "# or use insert function: predictions.insert(1, 'class_actual', pd.Series(np.empty(205, 1), index=range(205)))\n",
    "# then use the for loop\n",
    "\n",
    "# count how many predictions are incorrect and how many are correct\n",
    "\n",
    "# add a new column called \"error\"\n",
    "predictions['error'] = abs( predictions['class_actual'] - predictions['class_predicted'] )\n",
    "\n",
    "\n",
    "predictions.head()\n",
    "\n",
    "num_incorrect = sum(predictions['error'])\n",
    "num_correct = 205 - num_incorrect\n",
    "\n",
    "print(num_incorrect)\n",
    "\n",
    "percent_incorrect = num_incorrect/205\n",
    "accuracy = num_correct/205  # percent correct\n",
    "\n",
    "print(accuracy)\n",
    "\n",
    "predictions['class_actual']"
   ]
  },
  {
   "cell_type": "code",
   "execution_count": null,
   "metadata": {},
   "outputs": [],
   "source": []
  },
  {
   "cell_type": "code",
   "execution_count": null,
   "metadata": {},
   "outputs": [],
   "source": []
  },
  {
   "cell_type": "code",
   "execution_count": null,
   "metadata": {},
   "outputs": [],
   "source": []
  },
  {
   "cell_type": "code",
   "execution_count": null,
   "metadata": {},
   "outputs": [],
   "source": []
  },
  {
   "cell_type": "markdown",
   "metadata": {},
   "source": [
    "### Scikit-Learn/Python Decision Tree Classification"
   ]
  },
  {
   "cell_type": "markdown",
   "metadata": {},
   "source": [
    "There is a Decision Tree Classification built-in Scikit-Learn. But the mathematics involved is a bit complicated and will take several lectures to explain. To learn more, here is a brief lesson about the Decision Tree Classifier: https://www.datacamp.com/tutorial/decision-tree-classification-python\n",
    "\n",
    "Below is a brief overview on how to use it."
   ]
  },
  {
   "cell_type": "markdown",
   "metadata": {},
   "source": [
    "To import the Decision Tree Classifier:\n",
    "\n",
    "    from sklearn.tree import DecisionTreeClassifier\n",
    "\n",
    "To visualize your tree:\n",
    "\n",
    "    from sklearn.tree import export_graphviz\n",
    "    from six import StringIO\n",
    "    from IPython.display import Image\n",
    "    from pydotplus import graph_from_dot_data\n",
    "\n",
    "Accuracy metrics:\n",
    "\n",
    "    from sklearn.metrics import accuracy_score"
   ]
  },
  {
   "cell_type": "markdown",
   "metadata": {},
   "source": [
    "To create and train:\n",
    "\n",
    "    # Create a decision tree object\n",
    "    clf2 = DTC()\n",
    "\n",
    "    # Train Decision Tree Classifier\n",
    "    clf2 = clf2.fit(X_train[['Uniformity of Cell Size', 'Clump Thickness']],Y_train)"
   ]
  },
  {
   "cell_type": "markdown",
   "metadata": {},
   "source": [
    "To predict and compute its accuracy:\n",
    "\n",
    "    # Predict the response for test dataset\n",
    "    y_pred2 = clf2.predict(X_test[['Uniformity of Cell Size', 'Clump Thickness']])\n",
    "\n",
    "    print(\"Accuracy:\",accuracy_score(Y_test, y_pred2))"
   ]
  },
  {
   "cell_type": "markdown",
   "metadata": {},
   "source": [
    "To visualize the decision tree levels:\n",
    "\n",
    "    dot_data = StringIO()\n",
    "    export_graphviz(clf2, \\\n",
    "    out_file=dot_data, filled=True, rounded=True, \\\n",
    "    special_characters=True,feature_names = ['Uniformity of Cell Size', 'Clump Thickness'],class_names=['0','1'])\n",
    "    graph = graph_from_dot_data(dot_data.getvalue())\n",
    "    graph.write_png('c2.png')\n",
    "    Image(graph.create_png())"
   ]
  },
  {
   "cell_type": "code",
   "execution_count": null,
   "metadata": {},
   "outputs": [],
   "source": [
    "from sklearn.tree import DecisionTreeClassifier as DTC\n",
    "# Create a decision tree object\n",
    "clf2 = DTC()\n",
    "\n",
    "# Train Decision Tree Classifier\n",
    "clf2 = clf2.fit(X_train[['Marginal Adhesion', 'Clump Thickness']],Y_train)"
   ]
  },
  {
   "cell_type": "code",
   "execution_count": null,
   "metadata": {},
   "outputs": [],
   "source": [
    "from sklearn.metrics import accuracy_score\n",
    "# Predict the response for test dataset\n",
    "y_pred2 = clf2.predict(X_test[['Marginal Adhesion', 'Clump Thickness']])\n",
    "\n",
    "print(\"Accuracy:\",accuracy_score(Y_test, y_pred2))"
   ]
  },
  {
   "cell_type": "code",
   "execution_count": null,
   "metadata": {},
   "outputs": [],
   "source": [
    "from sklearn.tree import export_graphviz\n",
    "from six import StringIO\n",
    "from IPython.display import Image\n",
    "from pydotplus import graph_from_dot_data\n",
    "\n",
    "dot_data = StringIO()\n",
    "export_graphviz(clf2, \\\n",
    "out_file=dot_data, filled=True, rounded=True, \\\n",
    "special_characters=True,feature_names = ['Marginal Adhesion', 'Clump Thickness'],class_names=['0','1'])\n",
    "graph = graph_from_dot_data(dot_data.getvalue())\n",
    "graph.write_png('c2.png')\n",
    "Image(graph.create_png())"
   ]
  },
  {
   "cell_type": "code",
   "execution_count": null,
   "metadata": {},
   "outputs": [],
   "source": []
  },
  {
   "cell_type": "markdown",
   "metadata": {
    "slideshow": {
     "slide_type": "skip"
    }
   },
   "source": [
    "#### Miscellaneous Jupyter Notebook Tips\n",
    "\n",
    "To increase the indentation of an entire block of code: highlight the code, then\n",
    "+ Ctrl + ]\n",
    "\n",
    "To decrease indentation:\n",
    "+ Ctrl + [\n",
    "\n",
    "To comment/uncomment an entire block of code:\n",
    "+ Ctrl + /"
   ]
  }
 ],
 "metadata": {
  "celltoolbar": "Slideshow",
  "kernelspec": {
   "display_name": "Python [conda env:py3-11]",
   "language": "python",
   "name": "conda-env-py3-11-py"
  },
  "language_info": {
   "codemirror_mode": {
    "name": "ipython",
    "version": 3
   },
   "file_extension": ".py",
   "mimetype": "text/x-python",
   "name": "python",
   "nbconvert_exporter": "python",
   "pygments_lexer": "ipython3",
   "version": "3.11.9"
  }
 },
 "nbformat": 4,
 "nbformat_minor": 4
}
