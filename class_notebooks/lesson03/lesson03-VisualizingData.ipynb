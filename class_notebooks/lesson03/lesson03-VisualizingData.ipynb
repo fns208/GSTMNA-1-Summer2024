{
 "cells": [
  {
   "cell_type": "markdown",
   "metadata": {},
   "source": [
    "# Lesson 3: Visualizing Data\n",
    "\n",
    "Goals and Key Ideas:\n",
    "1. Purposes and types of data visualizations\n",
    "    + Determining the correct type of data visualization for a given type of variable\n",
    "2. Good and bad data visualizations\n",
    "    + Principles of good data visualizations\n",
    "3. Creating data visualizations using python and the `seaborn` library\n",
    "    + Visualizing the distribution of a variable: **Bar plots** and **Histograms**\n",
    "    + Visualizing the relationship between two variables: **Scatterplots**\n",
    "  \n",
    "Here are the documentations for using seaborn.:\n",
    "\n",
    "displot: https://seaborn.pydata.org/generated/seaborn.displot.html\n",
    "\n",
    "histplot: https://seaborn.pydata.org/generated/seaborn.histplot.html\n",
    "\n",
    "barplot: https://seaborn.pydata.org/generated/seaborn.barplot.html\n",
    "\n",
    "countplot: https://seaborn.pydata.org/generated/seaborn.countplot.html\n",
    "\n",
    "scatterplot: https://seaborn.pydata.org/generated/seaborn.scatterplot.html\n",
    "\n",
    "More information about matplotlib.pyplot (this is a great tool to organize your figures/plots): https://matplotlib.org/stable/tutorials/pyplot.html\n"
   ]
  },
  {
   "cell_type": "markdown",
   "metadata": {},
   "source": [
    "## Class Starter"
   ]
  },
  {
   "cell_type": "markdown",
   "metadata": {},
   "source": [
    "Suppose that we have a data frame called `top50` (top 50 songs on Spotify in 2019).\n",
    "What does the following python code/command do?\n",
    "\n",
    "\t\t\t\t\ttop50[ top50[‘Length’] < 165 ]\n",
    "\n",
    "- A. Sorts the rows based on the values in the `Length` column, from small to large\t\t\t\t\n",
    "- B. Adds a new column into the data frame\t\n",
    "- C. Keeps only rows whose `Length` values are less than 165\n",
    "- D. None of the above\n",
    "\n",
    "Respond on PollEV: https://pollev.com/fshum"
   ]
  },
  {
   "cell_type": "markdown",
   "metadata": {},
   "source": []
  },
  {
   "cell_type": "markdown",
   "metadata": {},
   "source": [
    "## Recap"
   ]
  },
  {
   "cell_type": "markdown",
   "metadata": {},
   "source": [
    "**Summary of Lesson 01 and 02:**\n",
    "- Import necessary libraries\n",
    "- Obtain and/or construct data\n",
    "- Modify data\n",
    "- Sort and/or filter data\n",
    "- Group data by attribute"
   ]
  },
  {
   "cell_type": "markdown",
   "metadata": {},
   "source": [
    "## Finding Datasets"
   ]
  },
  {
   "cell_type": "markdown",
   "metadata": {},
   "source": [
    "An extensive list of places where we can get datasets can be found on Brightspace under the Project tab. Below is an example of one of those places.\n",
    "\n",
    "- https://www.kaggle.com/datasets\n",
    "\n",
    "<img src='kaggle.png' width=600>"
   ]
  },
  {
   "cell_type": "markdown",
   "metadata": {},
   "source": [
    "## 1. Purposes and types of data visualizations"
   ]
  },
  {
   "cell_type": "markdown",
   "metadata": {},
   "source": [
    "### Why visualize data?"
   ]
  },
  {
   "cell_type": "markdown",
   "metadata": {},
   "source": [
    "- Convey your finding in an impactful way\n",
    "- Spark interest in those who may not read through all the details\n",
    "- Provide accessible information to a wider audience, especially to those who may not be familiar with the topic\n",
    "- Identify outliers, trends, and generalizations easily and make predictions"
   ]
  },
  {
   "cell_type": "markdown",
   "metadata": {},
   "source": [
    "### Types of Data Visualizations"
   ]
  },
  {
   "cell_type": "markdown",
   "metadata": {},
   "source": [
    "1. For visualizing the **distribution** of a variable\n",
    "    - Bar graphs: if the variable is categorical\n",
    "    - Histograms: if the variable is numerical (continuous)\n",
    "2. For visualizing the **relationship** between variables\n",
    "    - Scatterplots: to visualize the relationship between two numerical variables \n",
    "    - Bar plots: to visualize the relationship between a categorical variable and a numerical variable\n"
   ]
  },
  {
   "cell_type": "markdown",
   "metadata": {},
   "source": [
    "Other data visualizations:\n",
    "\n",
    "- Pie charts:\n",
    "    - Not great with lots of variables; bar plots are better.\n",
    "    - Only meaningful if the variables sum up to a whole.\n",
    "- Box plots\n",
    "- Line graphs\n",
    "- etc."
   ]
  },
  {
   "cell_type": "markdown",
   "metadata": {},
   "source": [
    "## 2. Good and bad data visualizations"
   ]
  },
  {
   "cell_type": "markdown",
   "metadata": {},
   "source": [
    "### Examples of (good and bad) data visualizations"
   ]
  },
  {
   "cell_type": "markdown",
   "metadata": {},
   "source": [
    "https://drive.google.com/file/d/1e97xdNftGal-lMH--x7vOWobfRIAMfSy/view?usp=sharing"
   ]
  },
  {
   "cell_type": "markdown",
   "metadata": {},
   "source": []
  },
  {
   "cell_type": "markdown",
   "metadata": {},
   "source": [
    "### Some principles of good data visualizations"
   ]
  },
  {
   "cell_type": "markdown",
   "metadata": {},
   "source": [
    "1. Use the appropriate type of graphs/charts, consistent with type of variables\n",
    "2. Clearly label and explain the axes\n",
    "3. Axes should generally start from 0 and be consistent in scale\n",
    "4. Avoid pie charts or other shapes; use bar graphs\n",
    "5. In bar charts and histograms: the area of each bar should be proportional to the quantity represented\n",
    "6. When visualizing proportions or percentages, clearly state what the population is\n",
    "7. Overall, any person should be able to observe key takeaways\n"
   ]
  },
  {
   "cell_type": "markdown",
   "metadata": {},
   "source": [
    "### Examples"
   ]
  },
  {
   "cell_type": "markdown",
   "metadata": {},
   "source": [
    "- https://www.cdc.gov/flu/weekly/index.htm\n",
    "\n",
    "<img src='ILI_WeeklyMap.png' width=600>"
   ]
  },
  {
   "cell_type": "markdown",
   "metadata": {},
   "source": [
    "- Who has the largest vocabulary in hip-hop?\n",
    "    - https://pudding.cool/projects/vocabulary\n",
    "\n",
    "<img src='hiphoplyrics.png' width=600>"
   ]
  },
  {
   "cell_type": "markdown",
   "metadata": {},
   "source": [
    "- https://furmancenter.org/neighborhoods\n",
    "\n",
    "<img src='bar_housing.png' width=600>"
   ]
  },
  {
   "cell_type": "markdown",
   "metadata": {},
   "source": [
    "- Covid-19 cases in the US\n",
    "    - https://coronavirus.jhu.edu/region/united-states\n",
    "\n",
    "<img src='cdc_covid.png' width=600>"
   ]
  },
  {
   "cell_type": "markdown",
   "metadata": {},
   "source": [
    "### Visualizing Distributions: Bar Graphs"
   ]
  },
  {
   "cell_type": "markdown",
   "metadata": {},
   "source": [
    "**Bar graphs** are used to visualize the **distribution of a categorical variable**.\n",
    "- One categorical variable\n",
    "- One bar for each group\n",
    "    - Bar height = “count” = how many observations belong to the group, or\n",
    "    - Bar height = “proportion” = the proportion of observations that belong to the group\n",
    "- The bars have equal width"
   ]
  },
  {
   "cell_type": "markdown",
   "metadata": {},
   "source": [
    "**Example:**\n",
    "\n",
    "| Name  | Species | Weight_lb | Age |\n",
    "| --- | --- | --- | --- |\n",
    "| Alex | Cat | 25 | 8 |\n",
    "| Bert | Cat | 15 | 3 |\n",
    "| Cate | Dog | 100 | 4 |\n",
    "| Doug | Cat | 20 | 3 |\n",
    "| Evan | Dog | 20 | 1 |\n",
    "| Finn | Rabbit | 4 | 2 |"
   ]
  },
  {
   "cell_type": "markdown",
   "metadata": {},
   "source": [
    "<table>\n",
    "    <tr>\n",
    "        <td><p>Let's suppose we want to plot a bar graph of Species using proportions as the bar height.</p> \n",
    "            <p>Note that there are 3 Cats, 2 Dogs, and 1 Rabbit out of 6 Animals.</p> \n",
    "            <p>Then the proportion that is Cats is 3/6, 2/6 for Dogs, and 1/6 for Rabbit.</p></td>\n",
    "        <td><img src=\"bargraph1.png\" width=\"400\">\n",
    "</td>\n",
    "    </tr>\n",
    "</table> "
   ]
  },
  {
   "cell_type": "markdown",
   "metadata": {},
   "source": [
    "### Quick Concept Check"
   ]
  },
  {
   "cell_type": "markdown",
   "metadata": {},
   "source": [
    "Which of the following statements is/are true about **bar graphs**?\n",
    "\n",
    "- A. If the y-axis is count, then the group with the most number of observation has the tallest bar.\t\t\t\n",
    "- B. If the y-axis is proportion, then the sum of the heights of all the bars is one.\n",
    "- C. When the y-axis is count, the bar graph might look different than when the y-axis is proportion.\n",
    "- D. When the y-axis is count, the bar graph might have a different number of bars than when the y-axis is proportion.\n",
    "- E. Statements A-D are all false.\n",
    "\n",
    "Respond on PollEV: https://pollev.com/fshum"
   ]
  },
  {
   "cell_type": "markdown",
   "metadata": {},
   "source": []
  },
  {
   "cell_type": "markdown",
   "metadata": {},
   "source": [
    "### Visualizing Distributions: Histograms"
   ]
  },
  {
   "cell_type": "markdown",
   "metadata": {},
   "source": [
    "**Histograms** are used to visualize the **distribution of a numerical variable**.\n",
    "- One numerical variable\n",
    "- Group the numbers (into “bins”/groups)\n",
    "- One bar for each bin\n",
    "    - Bar height = how many observations belong to the bin, or\n",
    "    - Bar height = the **density** of observations that belong to the bin\n",
    "      - Area of the bar = proportion of observations in that bin\n",
    "- Usually, the bars/bins have equal width\n"
   ]
  },
  {
   "cell_type": "markdown",
   "metadata": {},
   "source": [
    "<table>\n",
    "    <tr>\n",
    "        <td><p>Let's suppose we want to plot a histgram of Weight_lb with 3 bins.</p><p> Since the range of the weights are [0, 100],</p><p> this will create the cut-offs as [0, 33.33, 66.66, 100].</p> \n",
    "            <p>Note that Bin 1 is [0, 33.33] (including both 0 and 33.33),</p><p> Bin 2 is (33.33, 66.66] (including 66.66 only),</p><p> and Bin 3 is (66.66, 100] (including 100 only).</p> \n",
    "            <p>The first bin will always include both endpoints, but every bin after will only include the right endpoint.</p></td>\n",
    "        <td><img src=\"histogram_bin.png\" width=\"600\"></td>\n",
    "    </tr>\n",
    "</table> "
   ]
  },
  {
   "cell_type": "markdown",
   "metadata": {},
   "source": [
    "<table>\n",
    "    <tr>\n",
    "        <td><p>Note that density = (proportion) / (width of bin).</p> \n",
    "            <p>Note that Area = (density) X (width of bin).</p> \n",
    "</td>\n",
    "        <td><img src=\"histogram.png\" width=\"500\"></td>\n",
    "    </tr>\n",
    "</table> "
   ]
  },
  {
   "cell_type": "markdown",
   "metadata": {},
   "source": [
    "**Scale of each bin:**\n",
    "\n",
    "| Bin | Count | Proportion | Density |\n",
    "| --- | --- | --- | --- |\n",
    "| 1 | 5 | 5/6 | $\\dfrac{5/6}{100/3}$ |\n",
    "| 2 | 0 | 0 | $\\dfrac{0}{100/3}$ |\n",
    "| 3 | 1 | 1/6 | $\\dfrac{1/6}{100/3}$ |"
   ]
  },
  {
   "cell_type": "markdown",
   "metadata": {},
   "source": [
    "### Quick Concept Check"
   ]
  },
  {
   "cell_type": "markdown",
   "metadata": {},
   "source": [
    "Which of the following statements is/are true about **histograms**?\n",
    "\n",
    "- A. If the y-axis is count, then the group with the most number of observation has the tallest bar.\t\t\t\n",
    "- B. If the y-axis is density, then the sum of the heights of all the bars is one.\n",
    "- C. When the y-axis is count, the histogram might look different than when the y-axis is density.\n",
    "- D. When the y-axis is count, the histogram might have a different number of bars than when the y-axis is density.\n",
    "- E. Statements A-D are all false.\n",
    "\n",
    "Respond on PollEV: https://pollev.com/fshum"
   ]
  },
  {
   "cell_type": "markdown",
   "metadata": {},
   "source": []
  },
  {
   "cell_type": "markdown",
   "metadata": {},
   "source": [
    "### Visualizing Relationships: Scatterplots"
   ]
  },
  {
   "cell_type": "markdown",
   "metadata": {},
   "source": [
    "**Scatterplots** are used to visualize the **relationship between two numerical variables**.\n",
    "- Two numerical variables\n",
    "- One point for each observation"
   ]
  },
  {
   "cell_type": "markdown",
   "metadata": {},
   "source": [
    "<table>\n",
    "    <tr>\n",
    "        <td><p>Let's compare Age with Weight. </p>  \n",
    "</td>\n",
    "        <td><img src=\"scatterplot.png\" width=\"500\"></td>\n",
    "    </tr>\n",
    "</table> "
   ]
  },
  {
   "cell_type": "markdown",
   "metadata": {},
   "source": [
    "### Visualizing Relationships: Bar Graphs"
   ]
  },
  {
   "cell_type": "markdown",
   "metadata": {},
   "source": [
    "We can use bar graphs to visualize the relationship between a **categorical variable** and a **numerical variable**.\n",
    "- One categorical variable and one numerical variable\n",
    "- One bar for each group\n",
    "- The height of the bar is an aggregate value for each group\n",
    "\n"
   ]
  },
  {
   "cell_type": "markdown",
   "metadata": {},
   "source": [
    "**Example:**\n",
    "\n",
    "| Name  | Species | Weight_lb | Age |\n",
    "| --- | --- | --- | --- |\n",
    "| Alex | Cat | 25 | 8 |\n",
    "| Bert | Cat | 15 | 3 |\n",
    "| Cate | Dog | 100 | 4 |\n",
    "| Doug | Cat | 20 | 3 |\n",
    "| Evan | Dog | 20 | 1 |\n",
    "| Finn | Rabbit | 4 | 2 |\n",
    "\n",
    "| Species | Average_Weight|\n",
    "| --- | --- | \n",
    "| Cat | 20 | \n",
    "| Dog | 60 | \n",
    "| Rabbit | 4 |"
   ]
  },
  {
   "cell_type": "markdown",
   "metadata": {},
   "source": [
    "<table>\n",
    "    <tr>\n",
    "        <td><p>Let's compare Species with their respective Average Weight.</p> \n",
    "</td>\n",
    "        <td><img src=\"bargraph2.png\" width=\"500\"></td>\n",
    "    </tr>\n",
    "</table> "
   ]
  },
  {
   "cell_type": "code",
   "execution_count": null,
   "metadata": {},
   "outputs": [],
   "source": []
  },
  {
   "cell_type": "markdown",
   "metadata": {},
   "source": [
    "## 3. Creating data visualizations using python and the `seaborn` library"
   ]
  },
  {
   "cell_type": "markdown",
   "metadata": {},
   "source": [
    "We will use the `seaborn` library for creating plots\n",
    "\n",
    "    \timport seaborn as sns\n",
    "     \n",
    "Important functions from the `seaborn` library that we’ll use today:\n",
    "- displot(): for visualizing the distribution of a variable (bars, histograms, etc.)\n",
    "- relplot(): for visualizing the relationships between variables (scatterplots, etc.)\n",
    "- countplot(): for bar plots\n",
    "- histplot(): for histograms\n",
    "- scatterplot(): for scatterplots\n"
   ]
  },
  {
   "cell_type": "code",
   "execution_count": null,
   "metadata": {},
   "outputs": [],
   "source": [
    "# import the libraries (pandas, seaborn, matplotlib.pyplot)\n",
    "import pandas as pd\n",
    "import seaborn as sns\n",
    "import matplotlib.pyplot as plt"
   ]
  },
  {
   "cell_type": "markdown",
   "metadata": {},
   "source": [
    "## Example with Pets"
   ]
  },
  {
   "cell_type": "code",
   "execution_count": null,
   "metadata": {},
   "outputs": [],
   "source": [
    "df = pd.DataFrame({\"Name\":[\"A\", \"B\", \"C\", \"D\", \"E\", \"F\"], \\\n",
    "                   \"Species\":[\"Cat\", \"Cat\", \"Dog\", \"Cat\", \"Dog\", \"Rabbit\"],\\\n",
    "                   \"Weight_lb\":[25, 15, 100, 20, 20, 4], \\\n",
    "                   \"Age\":[8, 3, 4, 3, 1, 2]})"
   ]
  },
  {
   "cell_type": "markdown",
   "metadata": {},
   "source": [
    "## 3.1 Bar graph\n",
    "\n",
    "Bar graphs are used for categorical variables. In this case, it can be used for ‘Species’ or ‘Name’. ’Species’ would be more suitable because everyone has a distinct name here."
   ]
  },
  {
   "cell_type": "markdown",
   "metadata": {},
   "source": [
    "    sns.displot(data = DATAFRAMENAME , x = ‘COLNAME’)\n",
    "    sns.countplot(data = DATAFRAMENAME , x = ‘COLNAME’)\n",
    "\n",
    "- Inputs: \n",
    "    - a data frame and \n",
    "    - a column in that data frame (a categorical variable)\n",
    "- Output:\n",
    "    - A bar graph"
   ]
  },
  {
   "cell_type": "markdown",
   "metadata": {},
   "source": [
    "**Additional options in displot:**\n",
    "\n",
    "    sns.displot(data = DATAFRAMENAME , x = ‘COLNAME’, OPTIONS)\n",
    "      \n",
    "- OPTIONS\n",
    "    - Pick the y-axis: \n",
    "        - stat = ‘count’ OR stat = ‘probability’\n",
    "    - Pick colors:\n",
    "        - color = ‘red’, etc\n",
    "    - etc.\n",
    "\n"
   ]
  },
  {
   "cell_type": "code",
   "execution_count": null,
   "metadata": {},
   "outputs": [],
   "source": [
    "# Displot is a more general bar graph for plotting function\n",
    "sns.displot(data = df, x = 'Species')"
   ]
  },
  {
   "cell_type": "code",
   "execution_count": null,
   "metadata": {},
   "outputs": [],
   "source": [
    "# Before we showed a count, let's show a proportion or a probability\n",
    "sns.displot(data = df, x = 'Species', stat = 'probability')"
   ]
  },
  {
   "cell_type": "code",
   "execution_count": null,
   "metadata": {},
   "outputs": [],
   "source": [
    "# countplot is a specific type of bar graph (more specific than displot)\n",
    "sns.countplot(data = df, x = 'Species')"
   ]
  },
  {
   "cell_type": "code",
   "execution_count": null,
   "metadata": {},
   "outputs": [],
   "source": []
  },
  {
   "cell_type": "markdown",
   "metadata": {},
   "source": [
    "## 3.2 Histogram\n",
    "\n",
    "Histograms are used for a continuous variable rather than discrete variable. In here, a histogram would be appropriate to show the amount of animals that fall under a range of ages and/or weights.\n",
    "\n",
    "ie: How many animals are within the ages of 1-3, 3-5, 5-7, etc."
   ]
  },
  {
   "cell_type": "markdown",
   "metadata": {},
   "source": [
    "    sns.displot(data = DATAFRAMENAME , x = ‘COLNAME’)\n",
    "    sns.histplot(data = DATAFRAMENAME , x = ‘COLNAME’)\n",
    "- Inputs: \n",
    "    - A data frame and \n",
    "    - A column in that data frame (a numerical variable)\n",
    "- Output: \n",
    "    - A histogram\n"
   ]
  },
  {
   "cell_type": "markdown",
   "metadata": {},
   "source": [
    "**Additional options:**\n",
    "\n",
    "    sns.displot(data = DATAFRAMENAME , x = ‘COLNAME’, OPTIONS)\n",
    "    sns.histplot(data = DATAFRAMENAME , x = ‘COLNAME’, OPTIONS)\n",
    "- OPTIONS\n",
    "    - Pick how many bins:\n",
    "      - bins = NUMBER\n",
    "    - Pick bin width:\n",
    "      - binwidth = NUMBER\n",
    "    - Pick the y-axis: \n",
    "        - stat = ‘count’ OR stat = ‘probability’ OR stat = ‘density’\n",
    "    - Pick colors:\n",
    "        - color = ‘red’, etc\n",
    "    - etc.\n"
   ]
  },
  {
   "cell_type": "code",
   "execution_count": null,
   "metadata": {},
   "outputs": [],
   "source": [
    "# You can use displot or histplot; histplot is more specific than displot\n",
    "# Specify number of bins (or number of categories)\n",
    "sns.displot(data=df, x='Age',bins=2)"
   ]
  },
  {
   "cell_type": "code",
   "execution_count": null,
   "metadata": {},
   "outputs": [],
   "source": [
    "# Specify number of bins (or number of categories)\n",
    "sns.displot(data=df, x='Age',bins=4)"
   ]
  },
  {
   "cell_type": "code",
   "execution_count": null,
   "metadata": {},
   "outputs": [],
   "source": [
    "# Specify width of bins (or how wide each bar will be)\n",
    "sns.displot(data=df, x='Age',binwidth=1.5)"
   ]
  },
  {
   "cell_type": "code",
   "execution_count": null,
   "metadata": {},
   "outputs": [],
   "source": [
    "# Specify ranges with a list\n",
    "sns.displot(data=df, x='Age',bins = [1,3,5,7,9])"
   ]
  },
  {
   "cell_type": "code",
   "execution_count": null,
   "metadata": {},
   "outputs": [],
   "source": []
  },
  {
   "cell_type": "markdown",
   "metadata": {},
   "source": [
    "## 3.3 Scatterplot\n",
    "\n",
    "A scatterplot visualizes two numerical variables together - like a coordinate point. Here, age and\n",
    "weight would be an appropriate choice if we want to find out if age and weight are correlated to\n",
    "each other."
   ]
  },
  {
   "cell_type": "markdown",
   "metadata": {},
   "source": [
    "    sns.relplot(data=DATAFRAMENAME , x=‘COLNAME1’, y=‘COLNAME2’)\n",
    "    sns.scatterplot(data=DATAFRAMENAME , x=‘COLNAME1’, y=‘COLNAME2’)\n",
    "- Inputs: \n",
    "    - A data frame\n",
    "    - Two column names (both are numerical variables)\n",
    "- Output: \n",
    "    - A scatterplot\n"
   ]
  },
  {
   "cell_type": "code",
   "execution_count": null,
   "metadata": {},
   "outputs": [],
   "source": [
    "sns.scatterplot(data=df , x='Age', y='Weight_lb')"
   ]
  },
  {
   "cell_type": "code",
   "execution_count": null,
   "metadata": {},
   "outputs": [],
   "source": [
    "sns.scatterplot(data=df , x='Age', y='Weight_lb', hue='Species')"
   ]
  },
  {
   "cell_type": "code",
   "execution_count": null,
   "metadata": {},
   "outputs": [],
   "source": []
  },
  {
   "cell_type": "markdown",
   "metadata": {},
   "source": [
    "## Additional Visualization Examples: Boxplot"
   ]
  },
  {
   "cell_type": "markdown",
   "metadata": {},
   "source": [
    "<img src='boxplot.png' width=600>"
   ]
  },
  {
   "cell_type": "markdown",
   "metadata": {},
   "source": [
    "## Additional Visualization Examples: Word Cloud"
   ]
  },
  {
   "cell_type": "markdown",
   "metadata": {},
   "source": [
    "<table>\n",
    "    <tr>\n",
    "        <td><img src=\"word_cloud_script.png\" width=\"600\"></td>\n",
    "        <td><img src=\"word_cloud_plt.png\" width=\"300\">\n",
    "</td>\n",
    "    </tr>\n",
    "</table> "
   ]
  },
  {
   "cell_type": "markdown",
   "metadata": {},
   "source": [
    "## Practice"
   ]
  },
  {
   "cell_type": "markdown",
   "metadata": {},
   "source": [
    "### Train of Thought"
   ]
  },
  {
   "cell_type": "markdown",
   "metadata": {},
   "source": [
    "- **Observation**: Identify information that needs to be visualized\n",
    "- **Decision**: Based on the information, determine an appropriate type of visualization (histogram, bar plot, scatter plot, etc)\n",
    "- **Action**: Build it. Be sure to display key information (labels, legends, titles, axes names, etc.) in the type of visualization you chose\n",
    "- **Presentation**: Beautify and make your visualization appealing\n",
    "\n"
   ]
  },
  {
   "cell_type": "markdown",
   "metadata": {},
   "source": [
    "### Exercise"
   ]
  },
  {
   "cell_type": "markdown",
   "metadata": {},
   "source": [
    "Grab the Medals dataset from https://www.kaggle.com/datasets/arjunprasadsarkhel/2021-olympics-in-tokyo/data\n",
    "\n",
    "Here is documentation on how to read in excel files using pandas: https://pandas.pydata.org/docs/reference/api/pandas.read_excel.html\n",
    "\n",
    "1. Visualize the Team/NOC and the number of medals received\n",
    "2. Display the distribution of types of medal for the top 10 teams\n",
    "3. Display the portion of the teams that received a certain number of medals, maybe in multiples of 20\n",
    "4. Determine if there is a relationship between the total number of medals a team wins and the number of gold medals they win.\n"
   ]
  },
  {
   "cell_type": "code",
   "execution_count": null,
   "metadata": {},
   "outputs": [],
   "source": [
    "# read in data and name it df\n"
   ]
  },
  {
   "cell_type": "code",
   "execution_count": null,
   "metadata": {},
   "outputs": [],
   "source": []
  },
  {
   "cell_type": "code",
   "execution_count": null,
   "metadata": {},
   "outputs": [],
   "source": []
  },
  {
   "cell_type": "code",
   "execution_count": null,
   "metadata": {},
   "outputs": [],
   "source": [
    "# Question 1\n",
    "# Set up 'area' to plot your figure\n",
    "plt.figure(figsize=(20,20))\n",
    "plt.title(\"Olympic Team and Total Number of Medals Won\")\n",
    "\n",
    "# The plot itself\n",
    "sns.barplot(data=df, x='Team/NOC', y='Total', hue='Team/NOC', legend=False)\n",
    "\n",
    "# Beautify\n",
    "plt.xticks(rotation=90);\n",
    "\n",
    "# Display the final plot\n",
    "plt.show()"
   ]
  },
  {
   "cell_type": "code",
   "execution_count": null,
   "metadata": {},
   "outputs": [],
   "source": []
  },
  {
   "cell_type": "code",
   "execution_count": null,
   "metadata": {},
   "outputs": [],
   "source": []
  },
  {
   "cell_type": "code",
   "execution_count": null,
   "metadata": {},
   "outputs": [],
   "source": [
    "# Question 2\n",
    "df=df.head(10)\n",
    "\n",
    "# Set up 'area' to plot your figure\n",
    "plt.figure(figsize=(20,20))\n",
    "  \n",
    "# Select info needed from the larger df\n",
    "sub_df = df[['Team/NOC', 'Gold', 'Silver','Bronze']]\n",
    "  \n",
    "# The plot itself\n",
    "# Note here the plotting function is from Pandas\n",
    "# Stacked bar graphs can show subsets of information - that is, \n",
    "# out of the total medals, what proportion of them were gold/silver/bronze?\n",
    "sub_df.plot(kind='bar', x='Team/NOC',stacked=True, color=['gold','silver', 'peru'],\\\n",
    "           title='Top 10 Teams & Medal Distribution', \\\n",
    "            ylabel = 'Medal Count');"
   ]
  },
  {
   "cell_type": "code",
   "execution_count": null,
   "metadata": {},
   "outputs": [],
   "source": []
  },
  {
   "cell_type": "code",
   "execution_count": null,
   "metadata": {},
   "outputs": [],
   "source": []
  },
  {
   "cell_type": "code",
   "execution_count": null,
   "metadata": {},
   "outputs": [],
   "source": [
    "# Question 3\n",
    "sns.histplot(data=df, x=\"Total\", stat='percent', bins=[0, 20, 40, 60, 80, 100, 120])"
   ]
  },
  {
   "cell_type": "code",
   "execution_count": null,
   "metadata": {},
   "outputs": [],
   "source": []
  },
  {
   "cell_type": "code",
   "execution_count": null,
   "metadata": {},
   "outputs": [],
   "source": []
  },
  {
   "cell_type": "code",
   "execution_count": null,
   "metadata": {},
   "outputs": [],
   "source": [
    "# Question 4\n",
    "sns.scatterplot(y=df['Total'], x=df['Gold'])"
   ]
  },
  {
   "cell_type": "code",
   "execution_count": null,
   "metadata": {},
   "outputs": [],
   "source": [
    "# Question 4\n",
    "temp=df.query('Gold<15')\n",
    "sns.scatterplot(y=temp['Total'], x=temp['Gold'])"
   ]
  },
  {
   "cell_type": "code",
   "execution_count": null,
   "metadata": {},
   "outputs": [],
   "source": []
  },
  {
   "cell_type": "markdown",
   "metadata": {},
   "source": [
    "## More Examples\n",
    "\n",
    "Here are some more example datasets that we can try to visualize"
   ]
  },
  {
   "cell_type": "code",
   "execution_count": null,
   "metadata": {},
   "outputs": [],
   "source": [
    "# load some example datasets\n",
    "\n",
    "#1. top 50 songs on spotify in 2019\n",
    "top50 = pd.read_csv('../../../shared/datasets/top50.csv')\n",
    "\n",
    "#2. \n",
    "babyweight = pd.read_csv('../../../shared/datasets/babyweight.csv')\n",
    "\n",
    "#3. NYC Tree Census\n",
    "nyctrees = pd.read_csv('../../../shared/datasets/NYC_Tree_Census_small.csv')"
   ]
  },
  {
   "cell_type": "code",
   "execution_count": null,
   "metadata": {},
   "outputs": [],
   "source": []
  },
  {
   "cell_type": "code",
   "execution_count": null,
   "metadata": {},
   "outputs": [],
   "source": []
  },
  {
   "cell_type": "code",
   "execution_count": null,
   "metadata": {},
   "outputs": [],
   "source": []
  },
  {
   "cell_type": "code",
   "execution_count": null,
   "metadata": {},
   "outputs": [],
   "source": []
  },
  {
   "cell_type": "code",
   "execution_count": null,
   "metadata": {},
   "outputs": [],
   "source": []
  },
  {
   "cell_type": "markdown",
   "metadata": {},
   "source": [
    "## More Resources"
   ]
  },
  {
   "cell_type": "markdown",
   "metadata": {},
   "source": [
    "- https://seaborn.pydata.org/tutorial.html\n",
    "- https://pandas.pydata.org/docs/reference/api/pandas.DataFrame.plot.bar.html\n",
    "- https://matplotlib.org/stable/tutorials/index\n",
    "- https://matplotlib.org/stable/gallery/color/named_colors.html\n"
   ]
  },
  {
   "cell_type": "code",
   "execution_count": null,
   "metadata": {},
   "outputs": [],
   "source": []
  }
 ],
 "metadata": {
  "kernelspec": {
   "display_name": "Python [conda env:py3-11]",
   "language": "python",
   "name": "conda-env-py3-11-py"
  },
  "language_info": {
   "codemirror_mode": {
    "name": "ipython",
    "version": 3
   },
   "file_extension": ".py",
   "mimetype": "text/x-python",
   "name": "python",
   "nbconvert_exporter": "python",
   "pygments_lexer": "ipython3",
   "version": "3.11.9"
  }
 },
 "nbformat": 4,
 "nbformat_minor": 4
}
