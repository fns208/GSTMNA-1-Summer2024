{
 "cells": [
  {
   "cell_type": "markdown",
   "metadata": {
    "slideshow": {
     "slide_type": "slide"
    }
   },
   "source": [
    "# Lesson 5: Classification\n",
    "\n",
    "Today:\n",
    "1. Classification\n",
    "    + Classification vs. Regression\n",
    "    + Examples of classification tasks\n",
    "    + Building a Classifier\n",
    "    + Hands-on example: cancer data\n",
    "        + Explore and visualize the training data\n",
    "        + Brainstorm a simple classification model\n",
    "2. Decision Trees"
   ]
  },
  {
   "cell_type": "markdown",
   "metadata": {},
   "source": [
    "## Class Starter"
   ]
  },
  {
   "cell_type": "markdown",
   "metadata": {},
   "source": [
    "1. Which of the following statements is/are true about the purposes of training and test datasets?\n",
    "\n",
    "    1. We use the training dataset to find patterns that help us build a model.  The test dataset is then used to assess the model.\n",
    "    2. The training dataset must consist of the first half of all rows of a dataset; the test dataset consists of the remaining rows.\n",
    "    3. In order to assess a model, we should not use the dataset that was already used to create the model.\n",
    "    4. A model that fits the training dataset well will definitely fit the test dataset well also.\n",
    "    5. None of the above\n",
    "\n",
    "Respond on PollEV: https://pollev.com/fshum"
   ]
  },
  {
   "cell_type": "markdown",
   "metadata": {},
   "source": [
    "Answer: "
   ]
  },
  {
   "cell_type": "markdown",
   "metadata": {},
   "source": [
    "## 1. Classification"
   ]
  },
  {
   "cell_type": "markdown",
   "metadata": {},
   "source": [
    "<img src='images/classification.png' width=800>"
   ]
  },
  {
   "cell_type": "markdown",
   "metadata": {},
   "source": [
    "### 1.1 Classification vs. Regression"
   ]
  },
  {
   "cell_type": "markdown",
   "metadata": {},
   "source": [
    "So far we have looked at:\n",
    "\n",
    "<img src='images/models-bigpicture_2.jpg' width=800>\n",
    "\n",
    "a model that predicts the value of a **numerical variable** is called a **regression model**."
   ]
  },
  {
   "cell_type": "markdown",
   "metadata": {},
   "source": [
    "Now we will look at:\n",
    "\n",
    "<img src='images/models-bigpicture_5b.jpg' width=800>\n",
    "\n",
    "A model that predicts the value of a **categorical variable** is called a **classification model**."
   ]
  },
  {
   "cell_type": "markdown",
   "metadata": {},
   "source": [
    "### 1.2 Examples of classification tasks"
   ]
  },
  {
   "cell_type": "markdown",
   "metadata": {},
   "source": [
    "- **Robot or Human?**\n",
    "<table><tr>\n",
    "    <td><img src='images/captcha1.png' width=400></td>\n",
    "<td><img src='images/captcha2.gif' width=400></td>\n",
    "</tr></table>\n",
    "<sup><p>image source: https://webmasters.googleblog.com/2014/12/are-you-robot-introducing-no-captcha.html </p>\n",
    "Credit: Alexey Bezrodny/iStock/Getty Images Plus\n",
    "\n",
    "</sup>"
   ]
  },
  {
   "cell_type": "markdown",
   "metadata": {},
   "source": [
    "- **0 or 1 or 2 or … or 9?**\n",
    "\n",
    "<img src='images/digitrecognition.png' width=400>\n",
    "\n",
    "<sup>image source: http://neuralnetworksanddeeplearning.com/chap1.html\n",
    "\n",
    "</sup>"
   ]
  },
  {
   "cell_type": "markdown",
   "metadata": {},
   "source": [
    "- **Image recognition**\n",
    "\n",
    "<img src='images/image_rec.png' width=600>"
   ]
  },
  {
   "cell_type": "markdown",
   "metadata": {},
   "source": [
    "- **Span or not spam?**\n",
    "\n",
    "<img src='images/TextClassificationExample.png' width=600>\n",
    "\n",
    "<sup>image source: https://developers.google.com/machine-learning/guides/text-classification/images/TextClassificationExample.png\n",
    "\n",
    "</sup>"
   ]
  },
  {
   "cell_type": "markdown",
   "metadata": {},
   "source": [
    "- <img src='images/MIT_covid19_coughclassifier.png' width=600>\n",
    "\n",
    "<sup><p>Source: https://news.mit.edu/2020/covid-19-cough-cellphone-detection-1029</p>\n",
    "Paper: https://ieeexplore.ieee.org/stamp/stamp.jsp?tp=&arnumber=920879\n",
    "\n",
    "</sup>"
   ]
  },
  {
   "cell_type": "markdown",
   "metadata": {},
   "source": [
    "### 1.3 Building a Classifier: Big Picture"
   ]
  },
  {
   "cell_type": "markdown",
   "metadata": {},
   "source": [
    "**Example: Spam or not spam?**\n",
    "\n",
    "<img src='images/bigpicture-classifier1.png' width=800>"
   ]
  },
  {
   "cell_type": "markdown",
   "metadata": {},
   "source": [
    "<img src='images/classifier-unlabelleddata.png' width=800>"
   ]
  },
  {
   "cell_type": "markdown",
   "metadata": {},
   "source": [
    "**Example: 0 or 1 or 2 or … or 9?**\n",
    "\n",
    "<table>\n",
    "    <tr>\n",
    "        <td>\n",
    "            <p> In classification, we are trying to predict the category (known as a <b>class</b>) that a sample belongs to.</p>\n",
    "            <p> In this example: </p>\n",
    "<p>Classes: 0, 1, 2, 3, 4, 5, 6, 7, 8, 9</p>\n",
    "<p># of classes: 10 classes\n",
    "</p>\n",
    "        </td>\n",
    "        <td><img src='images/digitrecognition.png' width=400>\n",
    "\n",
    "<sup>image source: http://neuralnetworksanddeeplearning.com/chap1.html\n",
    "\n",
    "</sup></td>\n",
    "    </tr>\n",
    "</table>"
   ]
  },
  {
   "cell_type": "markdown",
   "metadata": {},
   "source": [
    "### 1.4 Hands-on Example"
   ]
  },
  {
   "cell_type": "markdown",
   "metadata": {
    "slideshow": {
     "slide_type": "slide"
    }
   },
   "source": [
    "#### Example: Cancer Detection\n",
    "\n",
    "Question: Is this tumor benign or malignant (cancerous) ?\n",
    "\n",
    "We are given a labelled dataset:\n",
    "+ Each **observation** corresponds to a **tumor** detected in a patient\n",
    "+ Has several columns consisting of attributes/information about the tumor\n",
    "+ Has a column called `Class`:\n",
    "    + 0 indicates that the lump is not cancer\n",
    "    + 1 indicates that the lump is cancer"
   ]
  },
  {
   "cell_type": "markdown",
   "metadata": {},
   "source": [
    "<img src='images/bigpicture-classifier2.png' width=800>"
   ]
  },
  {
   "cell_type": "markdown",
   "metadata": {
    "slideshow": {
     "slide_type": "fragment"
    }
   },
   "source": [
    "Our goal today:\n",
    "+ Split the dataset into training and test data\n",
    "+ Explore and visualize the training data\n",
    "+ Brainstorm a classification model"
   ]
  },
  {
   "cell_type": "code",
   "execution_count": null,
   "metadata": {},
   "outputs": [],
   "source": [
    "# import packages\n",
    "import pandas as pd\n",
    "import numpy as np\n",
    "import seaborn as sns"
   ]
  },
  {
   "cell_type": "code",
   "execution_count": null,
   "metadata": {
    "slideshow": {
     "slide_type": "fragment"
    }
   },
   "outputs": [],
   "source": [
    "# read in cancer dataset\n",
    "cancerdata = pd.read_csv('../../../shared/datasets/cancer.csv')"
   ]
  },
  {
   "cell_type": "code",
   "execution_count": null,
   "metadata": {},
   "outputs": [],
   "source": []
  },
  {
   "cell_type": "code",
   "execution_count": null,
   "metadata": {},
   "outputs": [],
   "source": []
  },
  {
   "cell_type": "markdown",
   "metadata": {},
   "source": [
    "Remarks:\n",
    "+ Unlike with linear regression, we cannot fit a straight line to predict the y value based on the x value!\n",
    "+ We need a new model / a new way of thinking about this prediction question"
   ]
  },
  {
   "cell_type": "code",
   "execution_count": null,
   "metadata": {},
   "outputs": [],
   "source": [
    "# split into training and test\n",
    "\n",
    "# you could do it manually as well, here we do it using sklearn\n",
    "from sklearn.model_selection import train_test_split\n",
    "\n",
    "X = cancerdata.iloc[:, 1:10]\n",
    "y = cancerdata['Class']\n",
    "\n",
    "X_train, X_test, y_train, y_test = train_test_split(X, y, test_size = 0.3, random_state = 1)"
   ]
  },
  {
   "cell_type": "code",
   "execution_count": null,
   "metadata": {},
   "outputs": [],
   "source": []
  },
  {
   "cell_type": "code",
   "execution_count": null,
   "metadata": {},
   "outputs": [],
   "source": [
    "training_data = pd.concat([X_train, y_train], axis=1)"
   ]
  },
  {
   "cell_type": "code",
   "execution_count": null,
   "metadata": {},
   "outputs": [],
   "source": []
  },
  {
   "cell_type": "code",
   "execution_count": null,
   "metadata": {},
   "outputs": [],
   "source": [
    "sns.scatterplot(data = training_data, x='Clump Thickness', y='Marginal Adhesion', style='Class', hue='Class')"
   ]
  },
  {
   "cell_type": "code",
   "execution_count": null,
   "metadata": {},
   "outputs": [],
   "source": [
    "sns.swarmplot(data=training_data, y='Clump Thickness', x='Class')"
   ]
  },
  {
   "cell_type": "code",
   "execution_count": null,
   "metadata": {},
   "outputs": [],
   "source": [
    "sns.displot(data=training_data, x='Clump Thickness', hue='Class')"
   ]
  },
  {
   "cell_type": "markdown",
   "metadata": {},
   "source": [
    "Suppose we decided that the variables `Clump.Thickness` and `Marginal.Adhesion` are pretty good in distinguishing malignant vs. benign tumors:\n",
    "- Small values of `Clump.Thickness` together with small values of `Marginal.Adhesion`: likely **not malignant**\n",
    "- Otherwise: more likely to be **malignant**"
   ]
  },
  {
   "cell_type": "markdown",
   "metadata": {},
   "source": [
    "#### Cancer Detection: Building Models and Making Predictions"
   ]
  },
  {
   "cell_type": "markdown",
   "metadata": {},
   "source": [
    "- Fitting a straight line through data points no longer work!"
   ]
  },
  {
   "cell_type": "markdown",
   "metadata": {},
   "source": [
    "<table>\n",
    "    <tr>\n",
    "        <td>\n",
    "            <p>Suppose that we have four more data points (A, B, C, D in the figure to the right).  Based on this information alone, <b>what predictions would you make</b> for each of them (malignant or benign) ?</p>\n",
    "<p>How might you <b>quantify</b> elements of your prediction process, so that you can tell a computer to do it for you?\n",
    "(What is the ``rule'' or ``recipe'' that you use in making your prediction?)</p>\n",
    "        </td>\n",
    "        <td>\n",
    "        <img src='images/lec20-knn-illustration2.png' width=600>\n",
    "        </td>\n",
    "    </tr>\n",
    "</table>"
   ]
  },
  {
   "cell_type": "markdown",
   "metadata": {},
   "source": [
    "**Idea 1: Draw lines or curves that separate the blue dots from the red dots**"
   ]
  },
  {
   "cell_type": "markdown",
   "metadata": {},
   "source": [
    "<img src='images/first_classifier.png' width=800>"
   ]
  },
  {
   "cell_type": "markdown",
   "metadata": {},
   "source": [
    "## 2. Decision Trees"
   ]
  },
  {
   "cell_type": "markdown",
   "metadata": {},
   "source": [
    "<img src='images/decision_tree.png' width=600>"
   ]
  },
  {
   "cell_type": "markdown",
   "metadata": {},
   "source": [
    "### What is a decision tree?"
   ]
  },
  {
   "cell_type": "markdown",
   "metadata": {},
   "source": [
    "<table>\n",
    "    <tr>\n",
    "        <td> <p>A decision tree is a way to visualize a decision-making process when multiple possibilities are involved.</p>\n",
    "\n",
    "They are called <b>trees</b> because the diagram involves branches. They’re essentially a particular type of “flowchart”.\n",
    "\n",
    "- Each node is a True/False question.\n",
    "- Each node branches into two other nodes based on the response to the question.\n",
    "</td>\n",
    "<td><img src='images/tree.png' width=400></td>\n",
    "    </tr>\n",
    "</table>"
   ]
  },
  {
   "cell_type": "code",
   "execution_count": null,
   "metadata": {},
   "outputs": [],
   "source": []
  },
  {
   "cell_type": "code",
   "execution_count": null,
   "metadata": {},
   "outputs": [],
   "source": []
  }
 ],
 "metadata": {
  "kernelspec": {
   "display_name": "Python [conda env:py3-11]",
   "language": "python",
   "name": "conda-env-py3-11-py"
  },
  "language_info": {
   "codemirror_mode": {
    "name": "ipython",
    "version": 3
   },
   "file_extension": ".py",
   "mimetype": "text/x-python",
   "name": "python",
   "nbconvert_exporter": "python",
   "pygments_lexer": "ipython3",
   "version": "3.11.9"
  }
 },
 "nbformat": 4,
 "nbformat_minor": 4
}
