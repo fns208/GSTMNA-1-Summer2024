{
 "cells": [
  {
   "cell_type": "markdown",
   "metadata": {
    "slideshow": {
     "slide_type": "slide"
    }
   },
   "source": [
    "# Lesson 5 Continued: Conditionals\n",
    "\n",
    "Today:\n",
    "1. Conditionals: Introduction\n",
    "    + Boolean variables, operations, expressions\n",
    "        + `and`\n",
    "        + `or`\n",
    "        + `not`\n",
    "    + Conditional statements\n",
    "3. Programming Elements\n",
    "    + If-else statements\n",
    "    + Application to classification: \n",
    "        + Explore and visualize the training data\n",
    "        + Simple decision tree classifiers"
   ]
  },
  {
   "cell_type": "markdown",
   "metadata": {},
   "source": [
    "## 1. Conditionals: Introduction"
   ]
  },
  {
   "cell_type": "markdown",
   "metadata": {},
   "source": [
    "### 1.1 Boolean Variables and Operations"
   ]
  },
  {
   "cell_type": "markdown",
   "metadata": {},
   "source": [
    "- **Boolean variables** or **logical variables** are variables that can take values of either `True` or `False`.\n",
    "- With numerical variables, we can carry out algebraic operations such as addition, subtraction, multiplication, etc\n",
    "- With **boolean variables**, we can carry out **boolean operations**:\n",
    "  - AND: $\\wedge$\n",
    "  - OR: $\\vee$\n",
    "  - NOT: $\\neg$\n"
   ]
  },
  {
   "cell_type": "markdown",
   "metadata": {},
   "source": [
    "**Algebra v.s. Boolean Algebra**\n",
    "\n",
    "| | Algebra | Boolean Algebra|\n",
    "| --- | --- | --- |\n",
    "|**Expression** | $3x-2y$ | $\\neg x \\vee y$|\n",
    "|**Variables** | Numbers | True or False|\n",
    "|**Basic** **Operations**| Addition $+$ | And $\\wedge$|\n",
    "| | Multiplication $\\times$ | Or $\\vee$|\n",
    "| | | Not $\\neg$|\n",
    "| | | Implication $\\rightarrow$|\n",
    "|**Properties** | Commutative | Commutative|\n",
    "| | Associative| Associative|\n",
    "| |Distributive|Distributive|"
   ]
  },
  {
   "cell_type": "markdown",
   "metadata": {},
   "source": [
    "#### Boolean Operation: AND"
   ]
  },
  {
   "cell_type": "markdown",
   "metadata": {},
   "source": [
    "The table below is called a **truth table** where we evaluate the operation `AND` between all possible pairings of `True` and `False` values. You can represent the Clauses with variables: \n",
    "- $x = $ Clause 1,\n",
    "- $y = $ Clause 2, and\n",
    "- $x\\wedge y = $ Clause 1 `AND` Clause 2."
   ]
  },
  {
   "cell_type": "markdown",
   "metadata": {},
   "source": [
    "| Clause 1 | Clause 2 | Clause 1 `AND` Clause 2|\n",
    "| --- | --- | --- |\n",
    "| True | True |  |\n",
    "| True | False |  |\n",
    "| False | True |  |\n",
    "| False | False |  |"
   ]
  },
  {
   "cell_type": "markdown",
   "metadata": {},
   "source": [
    "#### Boolean Operation: OR"
   ]
  },
  {
   "cell_type": "markdown",
   "metadata": {},
   "source": [
    "| Clause 1 | Clause 2 | Clause 1 `OR` Clause 2|\n",
    "| --- | --- | --- |\n",
    "| True | True |  |\n",
    "| True | False |  |\n",
    "| False | True |  |\n",
    "| False | False |  |"
   ]
  },
  {
   "cell_type": "markdown",
   "metadata": {},
   "source": [
    "#### Boolean Operation: NOT"
   ]
  },
  {
   "cell_type": "markdown",
   "metadata": {},
   "source": [
    "| Clause 1 | `NOT` Clause 1 | \n",
    "| --- | --- |\n",
    "| True |  |\n",
    "| False |  |"
   ]
  },
  {
   "cell_type": "code",
   "execution_count": null,
   "metadata": {},
   "outputs": [],
   "source": []
  },
  {
   "cell_type": "code",
   "execution_count": null,
   "metadata": {},
   "outputs": [],
   "source": []
  },
  {
   "cell_type": "code",
   "execution_count": null,
   "metadata": {},
   "outputs": [],
   "source": []
  },
  {
   "cell_type": "markdown",
   "metadata": {},
   "source": [
    "### 1.2 Conditional Statements"
   ]
  },
  {
   "cell_type": "markdown",
   "metadata": {},
   "source": [
    "<img src='images/conditionals.png' width=800>"
   ]
  },
  {
   "cell_type": "markdown",
   "metadata": {},
   "source": [
    "#### Conditional Statements: Examples"
   ]
  },
  {
   "cell_type": "markdown",
   "metadata": {},
   "source": [
    "**Example 1:** If it rains, then the picnic will be canceled."
   ]
  },
  {
   "cell_type": "markdown",
   "metadata": {},
   "source": [
    "| It rains. | The picnic will be canceled. | Logically consistent with above sentence?|\n",
    "| --- | --- | --- |\n",
    "| True | True |  |\n",
    "| True | False |  |\n",
    "| False | True |  |\n",
    "| False | False |  |"
   ]
  },
  {
   "cell_type": "markdown",
   "metadata": {},
   "source": [
    "<img src='images/cond_1.png' width=300>"
   ]
  },
  {
   "cell_type": "markdown",
   "metadata": {},
   "source": [
    "**Example 2:** If it rains, then the picnic will be canceled.\n",
    "\n",
    "Otherwise, the picnic will not be canceled."
   ]
  },
  {
   "cell_type": "markdown",
   "metadata": {},
   "source": [
    "| It rains. | The picnic will be canceled. | Logically consistent with above sentence?|\n",
    "| --- | --- | --- |\n",
    "| True | True |  |\n",
    "| True | False |  |\n",
    "| False | True |  |\n",
    "| False | False |  |"
   ]
  },
  {
   "cell_type": "markdown",
   "metadata": {},
   "source": [
    "<img src='images/cond_2.png' width=300>"
   ]
  },
  {
   "cell_type": "markdown",
   "metadata": {},
   "source": [
    "**Example 3:** If you eat your spinach **and** you eat your broccoli, then you can have your dessert."
   ]
  },
  {
   "cell_type": "markdown",
   "metadata": {},
   "source": [
    "We have three clauses:\n",
    "- x = You eat your spinach.\n",
    "- y = You eat your broccoli.\n",
    "- z = You can have dessert."
   ]
  },
  {
   "cell_type": "markdown",
   "metadata": {},
   "source": [
    "| You eat your spinach. | You eat your broccoli. | You eat your spinach AND you eat your broccoli. |You can have dessert. | Logically consistent with above sentence?|\n",
    "| --- | --- | --- | --- | --- |\n",
    "| True | True |  | True |  |\n",
    "| True | False |  | True |  |\n",
    "| False | True |  | True |  |\n",
    "| False | False |  | True |  |\n",
    "| True | True |  | False |  |\n",
    "| True | False |  | False |  |\n",
    "| False | True |  | False |  |\n",
    "| False | False |  | False |  |"
   ]
  },
  {
   "cell_type": "markdown",
   "metadata": {},
   "source": [
    "**Example 3:** If you eat your spinach **or** you eat your broccoli, then you can have your dessert."
   ]
  },
  {
   "cell_type": "markdown",
   "metadata": {},
   "source": [
    "| You eat your spinach. | You eat your broccoli. | You eat your spinach OR you eat your broccoli. |You can have dessert. | Logically consistent with above sentence?|\n",
    "| --- | --- | --- | --- | --- |\n",
    "| True | True |  | True |  |\n",
    "| True | False |  | True |  |\n",
    "| False | True |  | True |  |\n",
    "| False | False |  | True |  |\n",
    "| True | True |  | False |  |\n",
    "| True | False |  | False |  |\n",
    "| False | True |  | False |  |\n",
    "| False | False |  | False |  |"
   ]
  },
  {
   "cell_type": "markdown",
   "metadata": {},
   "source": []
  },
  {
   "cell_type": "markdown",
   "metadata": {},
   "source": [
    "## 2. Programming Elements: Conditionals"
   ]
  },
  {
   "cell_type": "markdown",
   "metadata": {},
   "source": [
    "### 2.1 If-else Statements"
   ]
  },
  {
   "cell_type": "markdown",
   "metadata": {},
   "source": [
    "We can implement statements of the form “If A, then B; else, C” in Python.\n",
    "\n",
    "Suppose that we would like Python to do the following:\n",
    "- If `BOOLEANEXPRESSION` is `TRUE`, then carry out `TASK1`\n",
    "- If `BOOLEANEXPRESSION` is `FALSE`, then carry out `TASK2`\n",
    "\n",
    "we use the following:\n",
    "\n",
    "\tif ( BOOLEANEXPRESSION ):\n",
    "\t\tTASK1\n",
    "\telse:\n",
    "\t\tTASK2\n",
    "\n"
   ]
  },
  {
   "cell_type": "markdown",
   "metadata": {},
   "source": [
    "### Implementation Examples"
   ]
  },
  {
   "cell_type": "markdown",
   "metadata": {},
   "source": [
    "**Example 1:**"
   ]
  },
  {
   "cell_type": "markdown",
   "metadata": {},
   "source": [
    "If your age is 16 or above, then display the message ”you may get a learner’s permit”\n",
    "\n",
    "\n",
    "<img src='images/if_else1.png' width=600>\n",
    "\n",
    "\n",
    "    if age >= 16:\n",
    "        print(‘you may get a learner’s permit’)\n",
    "\n",
    "    else:\n",
    "        print(‘n/a’)\n"
   ]
  },
  {
   "cell_type": "code",
   "execution_count": null,
   "metadata": {},
   "outputs": [],
   "source": []
  },
  {
   "cell_type": "code",
   "execution_count": null,
   "metadata": {},
   "outputs": [],
   "source": []
  },
  {
   "cell_type": "markdown",
   "metadata": {},
   "source": [
    "**Example 2:**\n",
    "\n",
    "If age is strictly greater than 60, variable group contains the text “high risk”.  Otherwise, group contains the text “low risk”."
   ]
  },
  {
   "cell_type": "code",
   "execution_count": null,
   "metadata": {},
   "outputs": [],
   "source": []
  },
  {
   "cell_type": "code",
   "execution_count": null,
   "metadata": {},
   "outputs": [],
   "source": []
  },
  {
   "cell_type": "markdown",
   "metadata": {},
   "source": [
    "**Example 3:**\n",
    "\n",
    "If x is strictly greater than zero, variable type contains the text “positive”.  Otherwise, type contains the text “not positive”."
   ]
  },
  {
   "cell_type": "code",
   "execution_count": null,
   "metadata": {},
   "outputs": [],
   "source": []
  },
  {
   "cell_type": "code",
   "execution_count": null,
   "metadata": {},
   "outputs": [],
   "source": []
  },
  {
   "cell_type": "markdown",
   "metadata": {},
   "source": [
    "**Example 4:**\n",
    "\n",
    "If x is strictly greater than zero, variable type contains the text “positive”.\n",
    "\n",
    "Otherwise, \n",
    "if x is strictly less than zero, type contains the text “negative”;\n",
    "\n",
    "otherwise, type contains the text “zero”"
   ]
  },
  {
   "cell_type": "code",
   "execution_count": null,
   "metadata": {},
   "outputs": [],
   "source": []
  },
  {
   "cell_type": "code",
   "execution_count": null,
   "metadata": {},
   "outputs": [],
   "source": []
  },
  {
   "cell_type": "markdown",
   "metadata": {},
   "source": [
    "### Concept Check"
   ]
  },
  {
   "cell_type": "markdown",
   "metadata": {},
   "source": [
    "Consider the if-else statement below:\n",
    "<p><img src='images/lesson05_concept_check.png' width=100></p>\n",
    "\n",
    "1. What is the value stored in z if x is -10 and y is 25 ?\n",
    "    1. -10\n",
    "    2. 10\n",
    "    3. 25\n",
    "    4. 15\n",
    "    5. None of the above\n",
    "\n",
    "Respond on PollEV: https://pollev.com/fshum"
   ]
  },
  {
   "cell_type": "markdown",
   "metadata": {},
   "source": [
    "Answer: "
   ]
  },
  {
   "cell_type": "markdown",
   "metadata": {
    "slideshow": {
     "slide_type": "subslide"
    }
   },
   "source": [
    "#### A Quick Group Activity\n",
    "\n",
    "Write an if-then statement that assigns the value of `y` depending on the value of `x` as follows: \n",
    "+ if `x` is negative, returns the value of `x` times `-1`\n",
    "+ otherwise, returns `x`."
   ]
  },
  {
   "cell_type": "markdown",
   "metadata": {
    "slideshow": {
     "slide_type": "fragment"
    }
   },
   "source": [
    "Then, try to find the output of values of `y` when \n",
    "+ `x` is 12\n",
    "+ `x` is -12, \n",
    "+ and a few other values of `x`.\n",
    "\n",
    "What is the mathematical function represented by this if-else statement?"
   ]
  },
  {
   "cell_type": "code",
   "execution_count": null,
   "metadata": {},
   "outputs": [],
   "source": []
  },
  {
   "cell_type": "code",
   "execution_count": null,
   "metadata": {},
   "outputs": [],
   "source": []
  },
  {
   "cell_type": "markdown",
   "metadata": {},
   "source": [
    "### 2.2 Applications to Classification"
   ]
  },
  {
   "cell_type": "markdown",
   "metadata": {},
   "source": [
    "**Recall our classification task:**\n",
    "\n",
    "Given data/measurements about a tumor, classify it as benign (class = 0) or malignant (class = 1). "
   ]
  },
  {
   "cell_type": "markdown",
   "metadata": {},
   "source": [
    "<img src='images/lec20-knn-illustration.png' width=600>"
   ]
  },
  {
   "cell_type": "markdown",
   "metadata": {
    "slideshow": {
     "slide_type": "subslide"
    }
   },
   "source": [
    "**Example: Encoding a simple classifier (version 1)**\n",
    "\n",
    "One possible classifier:\n",
    "+ If marginal_adhesion is less than 4, the tumor is classified as 0 (benign); \n",
    "+ else, it is classified as 1 (malignant)\n",
    "\n",
    "<table>\n",
    "    <tr>\n",
    "        <td><img src=\"images/lec20-knn-illustration2_wline.jpg\" width=\"400\"></td>\n",
    "        <td><img src=\"images/dec_tree1.png\" width=\"500\"></td>\n",
    "    </tr>\n",
    "</table>"
   ]
  },
  {
   "cell_type": "code",
   "execution_count": null,
   "metadata": {
    "slideshow": {
     "slide_type": "fragment"
    }
   },
   "outputs": [],
   "source": [
    "# Encoding a simple classifier\n",
    "# If marginal_adhesion is less than 4, \n",
    "#  the tumor is classified as 0 (benign); \n",
    "#  else, it is classified as 1 (malignant)\n",
    "\n",
    "\n",
    "marginal_adhesion = 2\n",
    "\n",
    "if marginal_adhesion < 4:\n",
    "    class_predicted = 0\n",
    "else:\n",
    "    class_predicted = 1\n",
    "\n",
    "class_predicted \n"
   ]
  },
  {
   "cell_type": "code",
   "execution_count": null,
   "metadata": {},
   "outputs": [],
   "source": []
  },
  {
   "cell_type": "markdown",
   "metadata": {},
   "source": [
    "**Example: Encoding another simple classifier (version 2)**\n",
    "\n",
    "Another possible classifier:\n",
    "- If marginal_adhesion is less than 4 AND clump_thickness is less than 7, the tumor is classified as 0 (benign);\n",
    "- else, it is classified as 1 (malignant)\n",
    "\n",
    "<table>\n",
    "    <tr>\n",
    "        <td><img src=\"images/lec20-knn-illustration2_wline2.jpg\" width=\"600\"></td>\n",
    "        <td><img src=\"images/dec_tree1b.jpg\" width=\"600\"></td>\n",
    "    </tr>\n",
    "</table>  "
   ]
  },
  {
   "cell_type": "code",
   "execution_count": null,
   "metadata": {
    "slideshow": {
     "slide_type": "subslide"
    }
   },
   "outputs": [],
   "source": [
    "# Encoding a simple classifier\n",
    "# If marginal_adhesion is less than 4 AND clump_thickness is less than 7, the tumor is classified as 0 (benign); \n",
    "# else, it is classified as 1 (malignant)\n",
    "\n",
    "marginal_adhesion = 2\n",
    "clump_thickness = 7\n",
    "\n",
    "if (marginal_adhesion < 4 and clump_thickness < 7):\n",
    "    class_predicted = 0\n",
    "else:\n",
    "    class_predicted = 1\n",
    "\n",
    "class_predicted"
   ]
  },
  {
   "cell_type": "markdown",
   "metadata": {},
   "source": [
    "**Example: Encoding a simple classifier (version 3)**\n",
    "\n",
    "One possible classifier:\n",
    "+ If marginal_adhesion is less than 4,\n",
    "    + if clump_thickness is less than 7, the tumor is classified as 0 (benign),\n",
    "    + else, it is classified as 1 (malignant)\n",
    "+ else,\n",
    "    + if clump_thickness is less than 5, the tumor is classified as 0 (benign),\n",
    "    + else, it is classified as 1 (malignant)\n",
    "\n",
    "<table>\n",
    "    <tr>\n",
    "        <td><img src=\"images/lec20-knn-illustration2_wline3a.jpg\" width=\"400\"></td>\n",
    "        <td><img src=\"images/dec_tree2.png\" width=\"500\"></td>\n",
    "    </tr>\n",
    "</table>"
   ]
  },
  {
   "cell_type": "code",
   "execution_count": null,
   "metadata": {},
   "outputs": [],
   "source": [
    "# Encoding a simple classifier\n",
    "# If marginal_adhesion is less than 4,\n",
    "## if clump_thickness is less than 7, the tumor is classified as 0 (benign),\n",
    "## else, it is classified as 1 (malignant)\n",
    "# else,\n",
    "## if clump_thickness is less than 5, the tumor is classified as 0 (benign),\n",
    "## else, it is classified as 1 (malignant)\n",
    "\n",
    "marginal_adhesion = 5\n",
    "clump_thickness = 7\n",
    "\n",
    "if marginal_adhesion < 4:\n",
    "    if clump_thickness < 7:\n",
    "        class_predicted = 0\n",
    "    else:\n",
    "        class_predicted = 1\n",
    "else:\n",
    "    if clump_thickness < 5:\n",
    "        class_predicted = 0\n",
    "    else:\n",
    "        class_predicted = 1\n",
    "\n",
    "class_predicted"
   ]
  },
  {
   "cell_type": "markdown",
   "metadata": {
    "slideshow": {
     "slide_type": "subslide"
    }
   },
   "source": [
    "##### 3-Minute Group Exercise\n",
    "\n",
    "1. Create a visualization involving other variables in this dataset\n",
    "2. Sketch (by hand) a \"decision tree\" for deciding when you would predict the class to be 0 and when to be 1\n",
    "3. Write if-else statements that \"encodes\" this decision tree"
   ]
  },
  {
   "cell_type": "code",
   "execution_count": null,
   "metadata": {},
   "outputs": [],
   "source": []
  },
  {
   "cell_type": "code",
   "execution_count": null,
   "metadata": {},
   "outputs": [],
   "source": []
  },
  {
   "cell_type": "code",
   "execution_count": null,
   "metadata": {
    "slideshow": {
     "slide_type": "subslide"
    }
   },
   "outputs": [],
   "source": []
  },
  {
   "cell_type": "code",
   "execution_count": null,
   "metadata": {},
   "outputs": [],
   "source": []
  },
  {
   "cell_type": "code",
   "execution_count": null,
   "metadata": {},
   "outputs": [],
   "source": []
  }
 ],
 "metadata": {
  "celltoolbar": "Slideshow",
  "kernelspec": {
   "display_name": "Python [conda env:py3-11]",
   "language": "python",
   "name": "conda-env-py3-11-py"
  },
  "language_info": {
   "codemirror_mode": {
    "name": "ipython",
    "version": 3
   },
   "file_extension": ".py",
   "mimetype": "text/x-python",
   "name": "python",
   "nbconvert_exporter": "python",
   "pygments_lexer": "ipython3",
   "version": "3.11.9"
  }
 },
 "nbformat": 4,
 "nbformat_minor": 4
}
