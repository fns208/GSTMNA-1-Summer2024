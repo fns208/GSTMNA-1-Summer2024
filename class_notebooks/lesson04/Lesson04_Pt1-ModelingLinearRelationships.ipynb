{
 "cells": [
  {
   "cell_type": "markdown",
   "metadata": {
    "slideshow": {
     "slide_type": "slide"
    }
   },
   "source": [
    "# Lesson 4: Modeling Linear Relationships\n",
    "\n",
    "Today:\n",
    "1. Models\n",
    "    + What are mathematical models?\n",
    "    + The mathematical modeling process\n",
    "    + Using models to make predictions/to inform decisions\n",
    "    + Some ethics issues surrounding data and models\n",
    "2. Models: Big Pictures\n",
    "    + Regression and Classification\n",
    "3. Modeling Linear Relationships\n",
    "    + Correlation coefficients\n",
    "    + Measuring distance between model and data\n",
    "    + Finding best-fit lines\n",
    "\n"
   ]
  },
  {
   "cell_type": "markdown",
   "metadata": {},
   "source": [
    "## Class Starter"
   ]
  },
  {
   "cell_type": "markdown",
   "metadata": {},
   "source": [
    "<table>\n",
    "    <tr>\n",
    "        <td>Suppose that we have the following dataset:\n",
    "            <img src=\"lesson04_class_starter.png\" width=\"400\">\n",
    "</td> \n",
    "        <td>\n",
    "Which of the following is appropriate to visualize the distributions of the variable Age?\n",
    "\n",
    "- A. Bar plot\t\t\t\n",
    "- B. Scatterplot\n",
    "- C. Histogram\n",
    "- D. Pie chart\n",
    "- E. None of the above\n",
    "\n",
    "Respond on PollEV: https://pollev.com/fshum</td>\n",
    "    </tr>\n",
    "</table>"
   ]
  },
  {
   "cell_type": "markdown",
   "metadata": {},
   "source": []
  },
  {
   "cell_type": "markdown",
   "metadata": {},
   "source": [
    "## 1. Models"
   ]
  },
  {
   "cell_type": "markdown",
   "metadata": {},
   "source": [
    "### 1.1 What are models?"
   ]
  },
  {
   "cell_type": "markdown",
   "metadata": {},
   "source": [
    "<table>\n",
    "    <tr>\n",
    "        <td><img src=\"model_house.jpg\" width=\"300\"><sup><a href=\"#fn1\" id=\"ref1\">1</a></sup>\n",
    "            <p></p>\n",
    "</td> \n",
    "        <td>\n",
    "            \n",
    "- A model is a simplification of a phenomenon in the real world\n",
    "    - an object, a process, a relationship, etc.\n",
    "- A model helps us understand the real-world phenomenon it represents\n",
    "\n",
    "</td>\n",
    "    </tr>\n",
    "</table>\n",
    "<hr></hr>\n",
    "\n",
    "<sup id=\"fn1\">1. image source: https://www.behance.net/gallery/25801349/Wooden-architecture-model\n",
    "<a href=\"#ref1\" title=\"Jump back to footnote 1 in the text.\">↩</a></sup>"
   ]
  },
  {
   "cell_type": "markdown",
   "metadata": {},
   "source": [
    "### Mathematical Models"
   ]
  },
  {
   "cell_type": "markdown",
   "metadata": {},
   "source": [
    "A mathematical model is a **representation** of a **real-world object**, process, or relationship in terms of **mathematical objects** \n",
    "\n",
    "(e.g., formulas, lines, graphs, algorithms, etc.)\n",
    "\n",
    "A mathematical model\n",
    "- is usually **simplified**: it is less complex than the real-world process it represents,\n",
    "- involves the process of **quantifying** a qualitative question\n",
    "\n"
   ]
  },
  {
   "cell_type": "markdown",
   "metadata": {},
   "source": [
    "### Mathematical Models: Examples"
   ]
  },
  {
   "cell_type": "markdown",
   "metadata": {},
   "source": [
    "**Example 1:** \n",
    "\n",
    "**Real-world question**: Is Donald Trump likely to be re-elected for a second term?\n",
    "\t\n",
    " The answer might be: “Very likely”, “somewhat unlikely”, etc.\n",
    "\n",
    "**Mathematical model question**: What is the probability that Donald Trump will be re-elected for a second term?\n",
    "\t\n",
    " The answer might be: “There is a 49% chance”, etc.\n",
    "\n",
    "\n",
    "Remarks:\n",
    "- Simplified: Maybe this prediction is based on the result of an exit poll\n",
    "- Quantified: a 49% chance quantifies how likely it is (e.g., very crudely: more likely than 1%, less likely than 99%, etc.)\n"
   ]
  },
  {
   "cell_type": "markdown",
   "metadata": {},
   "source": [
    "**Example 2:** \n",
    "\n",
    "**Real-world question**: What is the relationship between age and Covid risk?\n",
    "\n",
    "**Mathematical model question**: Find a mathematical equation that relates age and Covid risk.\n",
    "\n",
    "For example:\t\t\n",
    "            \n",
    "            Covid risk = m * age + b\n",
    "\n",
    "\n",
    "Remarks:\n",
    "- Simplified: ?\n",
    "- Quantified: ?\n"
   ]
  },
  {
   "cell_type": "markdown",
   "metadata": {},
   "source": [
    "**Example 3:** \n",
    "\n",
    "**Real-world question**: What factors govern the movement of objects?\n",
    "\n",
    "**Mathematical model question**: Find mathematical equations that describes how objects move (e.g., how objects fall to earth, how things bounce off one another)\n",
    "\n",
    "For example:\t\t\n",
    "            \n",
    "            Force = mass * acceleration\n",
    "\n",
    "\n",
    "Remarks:\n",
    "- Simplified: ?\n",
    "- Quantified: ?\n"
   ]
  },
  {
   "cell_type": "markdown",
   "metadata": {},
   "source": [
    "**Example 4:** \n",
    "\n",
    "**Real-world question**: What is a person’s ideal healthy weight?\n",
    "\n",
    "**Mathematical model question**: Find an equation in terms of a person’s weight (and other factors) that tells us whether or not the person’s weight is ideal/healthy.\n",
    "\n",
    "\n",
    "Remarks:\n",
    "- Simplified: ?\n",
    "- Quantified: ?\n"
   ]
  },
  {
   "cell_type": "markdown",
   "metadata": {},
   "source": [
    "**Example 5:** \n",
    "\n",
    "**Real-world question**: How likely is it for former crime offenders to offend again?\n",
    "\n",
    "**Mathematical model question**: Find an equation that computes the probability that a former offender will commit another crime.\n",
    "\n",
    "\n",
    "Remarks:\n",
    "- Simplified: ?\n",
    "- Quantified: ?\n"
   ]
  },
  {
   "cell_type": "markdown",
   "metadata": {},
   "source": [
    "### Mathematical Models: Method"
   ]
  },
  {
   "cell_type": "markdown",
   "metadata": {},
   "source": [
    "In creating a model that makes a prediction (e.g., “there is a 49% chance that Donald Trump will be re-elected for a second term”),\n",
    "- The model is created based on patterns observed in data\n",
    "- Some assumptions/simplifications might be made.\n",
    "- It is important to remember that a model is never 100% accurate, and that a good model is created after multiple refinements.\n",
    "\n",
    "\n",
    "This means that once we create a proposed model and use it, it’s necessary to **assess and evaluate** the model, and to interpret the model’s results carefully.\n"
   ]
  },
  {
   "cell_type": "markdown",
   "metadata": {},
   "source": [
    "### “All models are wrong, but some are useful”\n",
    "        - George Box (a statistician who stated this in a 1976 paper)\n"
   ]
  },
  {
   "cell_type": "markdown",
   "metadata": {},
   "source": [
    "- Mathematical models and methods could be useful, but they are just tools and they have limitations.\n",
    "- Human beings who create (or use) the models have the responsibility\n",
    "  - To be transparent about the sources of data that informs the model\n",
    "  - To be transparent about the assumptions/simplifications made in creating the models\n",
    "  - To carefully interpret the outcomes of any quantitative models in the context of the real-world question.\n"
   ]
  },
  {
   "cell_type": "markdown",
   "metadata": {},
   "source": [
    "### From Data to Models"
   ]
  },
  {
   "cell_type": "markdown",
   "metadata": {},
   "source": [
    "<img src='model_process.png' width=600>"
   ]
  },
  {
   "cell_type": "markdown",
   "metadata": {},
   "source": [
    "Models’ attempt to imitate real-world processes\n",
    "\n",
    "- **Collecting data**\n",
    "<p> Data are collected from a real-world phenomenon.</p>\n",
    "\n",
    "- **Identifying patterns in data and building a model**\n",
    "<p> We examine these data to identify patterns.  We then build a model that captures these patterns.</p>\n",
    "\n",
    "- **Assessing our model**\n",
    "<p> We check that our model does a good job “imitating the real-world process” by testing the behavior of the model using additional data.</p>\n",
    "\n",
    "- **Using the model**\n",
    "<p>Once we have a good model, we use it: to make predictions, inform decisions and policies, etc.</p>\n"
   ]
  },
  {
   "cell_type": "markdown",
   "metadata": {},
   "source": [
    "### From Data to Models: Examples"
   ]
  },
  {
   "cell_type": "markdown",
   "metadata": {},
   "source": [
    "**Example 1:**\n",
    "\n",
    "<em>Question:</em> What is the probability that Donald Trump will be re-elected for a second term?\n",
    "\n",
    "- Collecting Data\n",
    "\n",
    "\n",
    "- Identifying patterns in data and building a model\n",
    "\n",
    "\n",
    "- Assessing the model\n",
    "\n",
    "\n",
    "- Using the model\n"
   ]
  },
  {
   "cell_type": "markdown",
   "metadata": {},
   "source": [
    "**Example 2:**\n",
    "\n",
    "<em>Question:</em> Determine if a person is underweight, at an ideal weight, or overweight.\n",
    "\n",
    "- Collecting Data\n",
    "\n",
    "\n",
    "- Identifying patterns in data and building a model\n",
    "\n",
    "\n",
    "- Assessing the model\n",
    "\n",
    "\n",
    "- Using the model\n"
   ]
  },
  {
   "cell_type": "markdown",
   "metadata": {},
   "source": [
    "*One possible model:* The Body Mass Index (BMI)\n",
    "\n",
    "$$BMI = \\dfrac{\\text{mass}_{kg}}{\\text{height}_{m}^2} = 703 \\times \\dfrac{\\text{mass}_{lb}}{\\text{height}_{in}^2}$$\n"
   ]
  },
  {
   "cell_type": "markdown",
   "metadata": {},
   "source": [
    "**Example 3:**\n",
    "\n",
    "<em>Question:</em> What is the probability that a crime offender will offend again?\n",
    "\n",
    "- Collecting Data\n",
    "\n",
    "\n",
    "- Identifying patterns in data and building a model\n",
    "\n",
    "\n",
    "- Assessing the model\n",
    "\n",
    "\n",
    "- Using the model\n"
   ]
  },
  {
   "cell_type": "markdown",
   "metadata": {},
   "source": [
    "*One possible model:*\n",
    "\n",
    "**Correctional Offender Management Profiling for Alternative Sanctions (COMPAS)** is a case management and decision support tool developed and owned by Northpointe (now Equivant) used by U.S. courts to assess the likelihood of a defendant becoming a recidivist.\n",
    "\n",
    "The Violent Recidivism Risk Scale is calculated as follows:\n",
    "\n",
    "$$ s = a(-w) + a_{first}(-w) + h_{violence}w + v_{edu} w + h_{nc}w$$\n",
    "\n",
    "where $s$ is the violent recidivism risk score, $w$ is a weight multiplier, $a$ is current age, $a_{first}$ is the age at first arrest, $h_{violence}$ is the history of violence, $v_{edu}$ is vocation education level, and $h_{nc}$ is history of noncompliance. The weight, $w$, is “determined by the strength of the item's relationship to person offense recidivism that we observed in our study data”. (Wikipedia)\n",
    "\n",
    "\n"
   ]
  },
  {
   "cell_type": "markdown",
   "metadata": {},
   "source": [
    "### Breakout Activity"
   ]
  },
  {
   "cell_type": "markdown",
   "metadata": {},
   "source": [
    "In your breakout group:\n",
    "\n",
    "1. Pick one concrete example (e.g., BMI, COMPAS, or another example) and\n",
    "2. Discuss/identify: What are some issues that could occur at each stage of the modeling process? (do this in the context of the example that you chose)\n",
    "\n",
    "Breakout google doc:\n",
    "https://docs.google.com/document/d/1uHugF0wWQSKAXy1KNiEhqDI5_GMt9zvhIknDuNfbjcw/edit?usp=sharing"
   ]
  },
  {
   "cell_type": "markdown",
   "metadata": {},
   "source": [
    "### Ethical Implications"
   ]
  },
  {
   "cell_type": "markdown",
   "metadata": {},
   "source": [
    "- Datasets could be biased\n",
    "- Models/algorithms could be bad or biased\n",
    "- Outcomes might be interpreted in a biased, incomplete, or uninformed way\n",
    "- Feedback loops:\n",
    "    - Biased data leads to a biased model.  A biased model leads to biased decisions.\n",
    "    - Decisions affect the world and future data collected from it\n"
   ]
  },
  {
   "cell_type": "markdown",
   "metadata": {},
   "source": [
    "## 2. Models: Big Pictures"
   ]
  },
  {
   "cell_type": "markdown",
   "metadata": {},
   "source": [
    "There are lots of different kinds of models / modeling tasks\n",
    "- Statistical models\n",
    "- Scientific models\n",
    "- Fluid dynamics models (physics, calculus/differential equations)\n",
    "- Epidemiology models\n",
    "- Network/graph models\n",
    "- Etc.\n",
    "\n",
    "In data science and machine learning, here are two of the main categories:\n",
    "- Supervised learning\n",
    "- Unsupervised learning\n"
   ]
  },
  {
   "cell_type": "markdown",
   "metadata": {},
   "source": [
    "<img src='models.png' width=700>"
   ]
  },
  {
   "cell_type": "markdown",
   "metadata": {},
   "source": [
    "### Supervised Learning"
   ]
  },
  {
   "cell_type": "markdown",
   "metadata": {},
   "source": [
    "- Tasks where we want to predict/guess the value of a variable\n",
    "- For example:\n",
    "    - Given a song’s loudness, predict/guess its danceability\n",
    "    - Given a person’s height, predict/guess their weight\n",
    "    - Given a movie’s script, predict/guess their genre\n",
    "    - Given a crime offender’s data, predict the risk that they will offend again\n"
   ]
  },
  {
   "cell_type": "markdown",
   "metadata": {},
   "source": [
    "### Unsupervised Learning"
   ]
  },
  {
   "cell_type": "markdown",
   "metadata": {},
   "source": [
    "- Tasks where the “ground truth” is not known\n",
    "- For example:\n",
    "    - Given points on a scatterplot, please group them into clusters\n",
    "    - There might not be one “right answer” for\n",
    "    - How many clusters there should be\n",
    "    - Which points should belong to each cluster\n",
    "\n"
   ]
  },
  {
   "cell_type": "markdown",
   "metadata": {},
   "source": [
    "### Supervised Learning: Regression and Classification,"
   ]
  },
  {
   "cell_type": "markdown",
   "metadata": {},
   "source": [
    "- Regression:\n",
    "    - Predicts a numerical variable\n",
    "- Classification:\n",
    "    - Predicts a categorical variable\n"
   ]
  },
  {
   "cell_type": "markdown",
   "metadata": {
    "slideshow": {
     "slide_type": "subslide"
    }
   },
   "source": [
    "## 3. Modeling Linear Relationships"
   ]
  },
  {
   "cell_type": "markdown",
   "metadata": {},
   "source": [
    "### Regression"
   ]
  },
  {
   "cell_type": "markdown",
   "metadata": {},
   "source": [
    "- Collecting Data\n",
    "- Identifying patterns in data and building a model \n",
    "     (e.g., make Scatterplots)\n",
    "    - Based on what you see in the scatterplots, is linear regression a suitable choice\n",
    "- Assessing the model\n",
    "- Using the model\n"
   ]
  },
  {
   "cell_type": "markdown",
   "metadata": {},
   "source": [
    "**Scatterplots** allow us to visualize the relationship between two numerical variables.\n",
    "\n",
    "<img src='scatterplot.png' width= 800>"
   ]
  },
  {
   "cell_type": "markdown",
   "metadata": {},
   "source": [
    "The **correlation coefficient** tells us if there is a **strong linear relationship** between two numerical variables.\n",
    "- The correlation coefficient is a number **between -1 and 1**\n",
    "- A correlation coefficient value close to -1 means strong linear relationship, with negative slope\n",
    "- A correlation coefficient value close to 1 means strong linear relationship, with positive slope\n",
    "- A correlation coefficient value close to 0 means weak or no linear relationship\n"
   ]
  },
  {
   "cell_type": "markdown",
   "metadata": {},
   "source": [
    "**Quick Concept Check:**\n",
    "\n",
    "Come up with a rough guess for the correlation coefficient of each of the six pairs of variables visualized below.\n",
    "\n",
    "\n",
    "<img src='scatterplot.png' width= 800>"
   ]
  },
  {
   "cell_type": "markdown",
   "metadata": {},
   "source": []
  },
  {
   "cell_type": "markdown",
   "metadata": {},
   "source": [
    "**Concept Check:**\n",
    "Which of the following statements are true? Choose all the apply.\n",
    "\n",
    "- A. If x and y have a correlation coefficient of 1, then one must cause the other\n",
    "- B. If the correlation coefficient of x and y is close to 0, then knowing one will not help us predict the other.\n",
    "- C. If x and y have a correlation coefficient of -0.8, then they have a negative association\n",
    "\n",
    "\n",
    "Respond on PollEV: https://pollev.com/fshum"
   ]
  },
  {
   "cell_type": "markdown",
   "metadata": {},
   "source": []
  },
  {
   "cell_type": "markdown",
   "metadata": {},
   "source": [
    "<img src='causation.png' width=300>"
   ]
  },
  {
   "cell_type": "markdown",
   "metadata": {},
   "source": [
    "**Scatterplots** allow us to visualize the relationship between two numerical variables.\n",
    "\n",
    "<img src='scatterplot_line.png' width= 800>"
   ]
  },
  {
   "cell_type": "markdown",
   "metadata": {},
   "source": [
    "### Linear Regression"
   ]
  },
  {
   "cell_type": "markdown",
   "metadata": {},
   "source": [
    "If the correlation coefficient between two variables, x and y, is close to 1 or -1, then there is a strong linear relationship between them.\n",
    "\n",
    "That is, the relationship between x and y can be described via a linear equation:\n",
    "$$y = mx + b$$\n",
    "where $m$ = slope of the line and $b$ is the y-intercept.\n",
    "- x = the independent variable\n",
    "- y = the dependent variable (to be predicted)\n"
   ]
  },
  {
   "cell_type": "markdown",
   "metadata": {},
   "source": [
    "### Quantifying “goodness” of models"
   ]
  },
  {
   "cell_type": "markdown",
   "metadata": {},
   "source": [
    "Given data points, there are many different lines that we can draw through them.\n",
    "\n",
    "We want to find $m$ and $b$ so that $y = mx + b$ is a line that best fits the data.\n",
    "\n",
    "We need to quantify “best fit”\n",
    "\n",
    "That is, we need **metric** (some number) that **measures** how far off our **model** (the line) is \n",
    "\tfrom our **data** (the points)\n",
    "\n",
    "In other words, we want to measure **the \"distance\"** between the **model** (the line)\n",
    "and the **data** (the points).\n"
   ]
  },
  {
   "cell_type": "markdown",
   "metadata": {},
   "source": [
    "### Measuring distance between data and model"
   ]
  },
  {
   "cell_type": "markdown",
   "metadata": {},
   "source": [
    "There are different ways to quantify “distance” between data and models.  Here are some possibilities:\n",
    "- Sum of the errors\n",
    "- Sum of the absolute value of the errors\n",
    "- Sum of the squares of the errors\n",
    "- Average of the errors\n",
    "- Average of the absolute value of the errors\n",
    "- Average of the squares of the errors  (a.k.a. The Mean Squared Error (MSE) )\n",
    "\n"
   ]
  },
  {
   "cell_type": "markdown",
   "metadata": {},
   "source": [
    "Once we pick a “metric” for measuring the goodness of fit, then the **“best fitting line”** is simply the line that has the smallest distance from the data.\n",
    "\n",
    "For example, if we pick MSE as our metric/measure of goodness, then the line of best fit has the smallest MSE among all possible lines we can draw through the given set of data points\n",
    "\n"
   ]
  },
  {
   "cell_type": "markdown",
   "metadata": {},
   "source": [
    "#### Example"
   ]
  },
  {
   "cell_type": "markdown",
   "metadata": {},
   "source": [
    "<img src='lesson04_concept_check.png' width=500>"
   ]
  },
  {
   "cell_type": "markdown",
   "metadata": {},
   "source": [
    "| x  | y (data point) | y_pred (on the line) | Error |\n",
    "| --- | --- | --- | --- |\n",
    "| 0 | 1 |  |  |\n",
    "| 1 | 2 |  |  |\n",
    "| 2 | 6 |  |  |\n",
    "| 3 | 7 |  |  |"
   ]
  },
  {
   "cell_type": "markdown",
   "metadata": {},
   "source": [
    "$$Error = y_{observed} - y_{predicted}$$"
   ]
  },
  {
   "cell_type": "markdown",
   "metadata": {},
   "source": []
  },
  {
   "cell_type": "markdown",
   "metadata": {},
   "source": [
    "#### Quick Concept Check 1"
   ]
  },
  {
   "cell_type": "markdown",
   "metadata": {},
   "source": [
    "Find the distance between the line and the points, where distance is measured as the **average of the errors**.\n",
    "\n",
    "- A. 1\n",
    "- B. 2\n",
    "- C. 0\n",
    "- D. 0.5\n",
    "- E. None of the above.\n",
    "\n",
    "Respond on PollEV: https://pollev.com/fshum"
   ]
  },
  {
   "cell_type": "markdown",
   "metadata": {},
   "source": []
  },
  {
   "cell_type": "markdown",
   "metadata": {},
   "source": [
    "#### Quick Concept Check 2"
   ]
  },
  {
   "cell_type": "markdown",
   "metadata": {},
   "source": [
    "Find the distance between the line and the points, where distance is measured as the **mean of the squares of the errors**.\n",
    "\n",
    "- A. 1\n",
    "- B. 2\n",
    "- C. 0\n",
    "- D. 0.5\n",
    "- E. None of the above.\n",
    "\n",
    "Respond on PollEV: https://pollev.com/fshum"
   ]
  },
  {
   "cell_type": "markdown",
   "metadata": {},
   "source": []
  },
  {
   "cell_type": "markdown",
   "metadata": {},
   "source": [
    "### Finding the line with the smallest MSE"
   ]
  },
  {
   "cell_type": "markdown",
   "metadata": {},
   "source": [
    "There is a formula for finding the slope and intercept of the line that best fits the data (i.e., has the smallest MSE among all possible lines).\n",
    "\n",
    "However, in this course, we are not going to memorize this formula.\n",
    "\n",
    "Instead, the most important takeaways are:\n",
    "- The best line is obtained by finding the m and b that make the metric that measures error as small as possible\n",
    "- MSE is one possible way to measure error/distance between model and data.\n"
   ]
  },
  {
   "cell_type": "markdown",
   "metadata": {},
   "source": [
    "### Why MSE?"
   ]
  },
  {
   "cell_type": "markdown",
   "metadata": {},
   "source": [
    "- Relatively simple calculation\n",
    "- Penalty on outliers (both positive and negative)\n",
    "    - ie. Being “off” or having an error of +1 or -1 have the same implications \n",
    "    - ie. Being ‘off’ or having an error of +100 is much worse than having an error of +50 which is much worse than having an error of +10\n",
    "    - Best fit line will be reflective of **most** of the data\n",
    "- You can experiment with different loss functions\n",
    "    - For this class (and many other courses), for single-variable linear regression, we will use MSE\n"
   ]
  },
  {
   "cell_type": "markdown",
   "metadata": {},
   "source": [
    "### Linear Regression with python\n",
    "\n",
    "Documentation: https://seaborn.pydata.org/generated/seaborn.regplot.html\n",
    "\n",
    "https://scikit-learn.org/stable/modules/generated/sklearn.linear_model.LinearRegression.html"
   ]
  },
  {
   "cell_type": "markdown",
   "metadata": {},
   "source": [
    "- Plotting the linear regression line (i.e., one that minimizes MSE):\n",
    "\n",
    "        import seaborn as sns\n",
    "        sns.regplot(data = DATAFRAMENAME, x = ‘COLNAME1’, y = ‘COLNAME2’)\n"
   ]
  },
  {
   "cell_type": "markdown",
   "metadata": {},
   "source": [
    "- Finding the equation of the linear regression line\n",
    "  \n",
    "        from sklearn.linear_model import LinearRegression\n",
    "        MODELNAME = LinearRegression().fit( X, Y )\n",
    "Where\n",
    "- X = a dataframe with the column of the independent variable\n",
    "- Y = a list containing the values of the dependent variable\n",
    "Then,\n",
    "- `MODELNAME.coef_` : the slope of the best fit line\n",
    "- `MODELNAME.intercept_` : the y-intercept of the best fit line\n"
   ]
  },
  {
   "cell_type": "markdown",
   "metadata": {},
   "source": [
    "### More Visualization Options"
   ]
  },
  {
   "cell_type": "markdown",
   "metadata": {},
   "source": [
    "If we have a pandas dataframe with numerical variables, we can compute the _correlation coefficient between pairs of numerical variables__ (also known as **correlation matrix**) using the `.corr()` method:\n",
    "\n",
    "    DATAFRAMENAME.corr(numeric_only=True)\n",
    "\n"
   ]
  },
  {
   "cell_type": "markdown",
   "metadata": {},
   "source": [
    "To develop a pictorial representation of the correlation between two numerical variables:\n",
    "\n",
    "    import seaborn as sns\n",
    "    Correlation_matrix = DATAFRAME.corr(numeric_only=True)\n",
    "    sns.heatmap(correlation_matrix, annot = True)\n"
   ]
  },
  {
   "cell_type": "markdown",
   "metadata": {},
   "source": [
    "## Examples"
   ]
  },
  {
   "cell_type": "code",
   "execution_count": null,
   "metadata": {},
   "outputs": [],
   "source": [
    "# load libraries\n",
    "import pandas as pd\n",
    "import seaborn as sns"
   ]
  },
  {
   "cell_type": "markdown",
   "metadata": {},
   "source": [
    "###  Example 1\n",
    "Let's find the best fitting line for our small dataset above with 4 points:"
   ]
  },
  {
   "cell_type": "code",
   "execution_count": null,
   "metadata": {},
   "outputs": [],
   "source": [
    "#   here, we're creating a small data frame \"by hand\"\n",
    "small_dataset = pd.DataFrame({ 'Col1' : [0, 1, 2, 3], \n",
    "                               'Col2' :[1, 2, 6, 7]\n",
    "                             })\n",
    "\n",
    "small_dataset"
   ]
  },
  {
   "cell_type": "code",
   "execution_count": null,
   "metadata": {},
   "outputs": [],
   "source": [
    "# what is the correlation coefficient?\n"
   ]
  },
  {
   "cell_type": "code",
   "execution_count": null,
   "metadata": {},
   "outputs": [],
   "source": [
    "# plot of best-fitting line:\n",
    "sns.regplot(data=small_dataset, x='Col1', y='Col2', ci=None, line_kws={'color':'red'})"
   ]
  },
  {
   "cell_type": "code",
   "execution_count": null,
   "metadata": {},
   "outputs": [],
   "source": [
    "# Train the model\n",
    "from sklearn.linear_model import LinearRegression\n",
    "X = small_dataset[['Col1']]\n",
    "Y = small_dataset['Col2']\n",
    "model = LinearRegression().fit(X, Y)"
   ]
  },
  {
   "cell_type": "code",
   "execution_count": null,
   "metadata": {},
   "outputs": [],
   "source": [
    "# Results\n",
    "m = model.coef_[0]\n",
    "b = model.intercept_\n",
    "print(f\"Best fit line equation: y = {m}x + {b}\".format(m, b))"
   ]
  },
  {
   "cell_type": "code",
   "execution_count": null,
   "metadata": {},
   "outputs": [],
   "source": [
    "# new (unseen) data\n",
    "x_new = 0.75\n",
    "y_new = m * x_new + b\n",
    "y_new"
   ]
  },
  {
   "cell_type": "code",
   "execution_count": null,
   "metadata": {},
   "outputs": [],
   "source": [
    "# plot new data\n",
    "sns.regplot(data=small_dataset, x='Col1', y='Col2', ci=None, line_kws={'color':'red'})\n",
    "import matplotlib.pyplot as plt\n",
    "plt.scatter(x=x_new, y=y_new, color='b')\n",
    "plt.ylim([0, 8]);"
   ]
  },
  {
   "cell_type": "code",
   "execution_count": null,
   "metadata": {},
   "outputs": [],
   "source": [
    "# we could also use the predict function\n",
    "model.predict([[x_new]])"
   ]
  },
  {
   "cell_type": "code",
   "execution_count": null,
   "metadata": {},
   "outputs": [],
   "source": []
  },
  {
   "cell_type": "code",
   "execution_count": null,
   "metadata": {},
   "outputs": [],
   "source": []
  },
  {
   "cell_type": "markdown",
   "metadata": {},
   "source": [
    "### Example 2"
   ]
  },
  {
   "cell_type": "code",
   "execution_count": null,
   "metadata": {},
   "outputs": [],
   "source": [
    "top50 = pd.read_csv('../../../shared/datasets/top50.csv')\n",
    "\n",
    "top50.head()"
   ]
  },
  {
   "cell_type": "code",
   "execution_count": null,
   "metadata": {},
   "outputs": [],
   "source": [
    "# pick two of the numerical variables\n",
    "#   create a scatterplot\n"
   ]
  },
  {
   "cell_type": "code",
   "execution_count": null,
   "metadata": {},
   "outputs": [],
   "source": [
    "# Correlation Matrix\n",
    "top50.corr(numeric_only=True)"
   ]
  },
  {
   "cell_type": "code",
   "execution_count": null,
   "metadata": {},
   "outputs": [],
   "source": [
    "# plot of best-fitting line:\n",
    "#   Fill in our two chosen variables\n",
    "sns.regplot( data = top50, x = , y =  , ci = None)\n",
    "plt.ylim(-12, 0)\n",
    "plt.xlim(0, None)"
   ]
  },
  {
   "cell_type": "code",
   "execution_count": null,
   "metadata": {},
   "outputs": [],
   "source": [
    "# Train the model\n"
   ]
  },
  {
   "cell_type": "code",
   "execution_count": null,
   "metadata": {},
   "outputs": [],
   "source": [
    "# Results\n"
   ]
  },
  {
   "cell_type": "markdown",
   "metadata": {
    "slideshow": {
     "slide_type": "subslide"
    }
   },
   "source": [
    "### Example 3\n",
    "\n",
    "Plot and find the equation for the best-fitting line between the `Gest` variable and the `Wgt` variable in the `babyweight` dataset."
   ]
  },
  {
   "cell_type": "code",
   "execution_count": null,
   "metadata": {
    "scrolled": true,
    "slideshow": {
     "slide_type": "subslide"
    }
   },
   "outputs": [],
   "source": [
    "babyweight = pd.read_csv('../../shared/datasets/babyweight.csv')\n",
    "\n",
    "# as usual, start by getting a feel of this data frame.  \n",
    "#  How many rows/columns? Display the first few rows; Display the list of col names, etc.\n",
    "\n"
   ]
  },
  {
   "cell_type": "code",
   "execution_count": null,
   "metadata": {},
   "outputs": [],
   "source": []
  },
  {
   "cell_type": "code",
   "execution_count": null,
   "metadata": {},
   "outputs": [],
   "source": []
  },
  {
   "cell_type": "code",
   "execution_count": null,
   "metadata": {},
   "outputs": [],
   "source": []
  },
  {
   "cell_type": "code",
   "execution_count": null,
   "metadata": {},
   "outputs": [],
   "source": []
  },
  {
   "cell_type": "code",
   "execution_count": null,
   "metadata": {},
   "outputs": [],
   "source": []
  }
 ],
 "metadata": {
  "celltoolbar": "Slideshow",
  "kernelspec": {
   "display_name": "Python [conda env:py3-11]",
   "language": "python",
   "name": "conda-env-py3-11-py"
  },
  "language_info": {
   "codemirror_mode": {
    "name": "ipython",
    "version": 3
   },
   "file_extension": ".py",
   "mimetype": "text/x-python",
   "name": "python",
   "nbconvert_exporter": "python",
   "pygments_lexer": "ipython3",
   "version": "3.11.9"
  }
 },
 "nbformat": 4,
 "nbformat_minor": 4
}
